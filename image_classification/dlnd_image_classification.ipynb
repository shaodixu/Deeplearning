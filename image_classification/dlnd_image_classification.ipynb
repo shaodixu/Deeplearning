{
 "cells": [
  {
   "cell_type": "markdown",
   "metadata": {
    "collapsed": true
   },
   "source": [
    "# Image Classification\n",
    "\n"
   ]
  },
  {
   "cell_type": "code",
   "execution_count": 1,
   "metadata": {},
   "outputs": [
    {
     "name": "stdout",
     "output_type": "stream",
     "text": [
      "All files found!\n"
     ]
    }
   ],
   "source": [
    "\"\"\"\n",
    "DON'T MODIFY ANYTHING IN THIS CELL THAT IS BELOW THIS LINE\n",
    "\"\"\"\n",
    "from urllib.request import urlretrieve\n",
    "from os.path import isfile, isdir\n",
    "from tqdm import tqdm\n",
    "import problem_unittests as tests\n",
    "import tarfile\n",
    "\n",
    "cifar10_dataset_folder_path = 'cifar-10-batches-py'\n",
    "\n",
    "# Use Floyd's cifar-10 dataset if present\n",
    "floyd_cifar10_location = '/input/cifar-10/python.tar.gz'\n",
    "if isfile(floyd_cifar10_location):\n",
    "    tar_gz_path = floyd_cifar10_location\n",
    "else:\n",
    "    tar_gz_path = 'cifar-10-python.tar.gz'\n",
    "\n",
    "class DLProgress(tqdm):\n",
    "    last_block = 0\n",
    "\n",
    "    def hook(self, block_num=1, block_size=1, total_size=None):\n",
    "        self.total = total_size\n",
    "        self.update((block_num - self.last_block) * block_size)\n",
    "        self.last_block = block_num\n",
    "\n",
    "if not isfile(tar_gz_path):\n",
    "    with DLProgress(unit='B', unit_scale=True, miniters=1, desc='CIFAR-10 Dataset') as pbar:\n",
    "        urlretrieve(\n",
    "            'https://www.cs.toronto.edu/~kriz/cifar-10-python.tar.gz',\n",
    "            tar_gz_path,\n",
    "            pbar.hook)\n",
    "\n",
    "if not isdir(cifar10_dataset_folder_path):\n",
    "    with tarfile.open(tar_gz_path) as tar:\n",
    "        tar.extractall()\n",
    "        tar.close()\n",
    "\n",
    "\n",
    "tests.test_folder_path(cifar10_dataset_folder_path)"
   ]
  },
  {
   "cell_type": "code",
   "execution_count": 2,
   "metadata": {},
   "outputs": [
    {
     "name": "stdout",
     "output_type": "stream",
     "text": [
      "\n",
      "Stats of batch 1:\n",
      "Samples: 10000\n",
      "Label Counts: {0: 1005, 1: 974, 2: 1032, 3: 1016, 4: 999, 5: 937, 6: 1030, 7: 1001, 8: 1025, 9: 981}\n",
      "First 20 Labels: [6, 9, 9, 4, 1, 1, 2, 7, 8, 3, 4, 7, 7, 2, 9, 9, 9, 3, 2, 6]\n",
      "\n",
      "Example of Image 5:\n",
      "Image - Min Value: 0 Max Value: 252\n",
      "Image - Shape: (32, 32, 3)\n",
      "Label - Label Id: 1 Name: automobile\n"
     ]
    },
    {
     "data": {
      "image/png": "[encoded data removed]",
      "text/plain": [
       "<matplotlib.figure.Figure at 0x7f1d1360bcf8>"
      ]
     },
     "metadata": {
      "image/png": {
       "height": 250,
       "width": 253
      }
     },
     "output_type": "display_data"
    }
   ],
   "source": [
    "%matplotlib inline\n",
    "%config InlineBackend.figure_format = 'retina'\n",
    "\n",
    "import helper\n",
    "import numpy as np\n",
    "\n",
    "# Explore the dataset\n",
    "batch_id = 1\n",
    "sample_id = 5\n",
    "helper.display_stats(cifar10_dataset_folder_path, batch_id, sample_id)"
   ]
  },
  {
   "cell_type": "code",
   "execution_count": 3,
   "metadata": {},
   "outputs": [
    {
     "name": "stdout",
     "output_type": "stream",
     "text": [
      "Tests Passed\n"
     ]
    }
   ],
   "source": [
    "def normalize(x):\n",
    "    \"\"\"\n",
    "    Normalize a list of sample image data in the range of 0 to 1\n",
    "    : x: List of image data.  The image shape is (32, 32, 3)\n",
    "    : return: Numpy array of normalize data\n",
    "    \"\"\"\n",
    "    #mean = np.mean(x)\n",
    "    #std = np.std(x)\n",
    "    #return np.array((x-mean)/std)\n",
    "    return (x / 255.0)\n",
    "\"\"\"\n",
    "DON'T MODIFY ANYTHING IN THIS CELL THAT IS BELOW THIS LINE\n",
    "\"\"\"\n",
    "tests.test_normalize(normalize)"
   ]
  },
  {
   "cell_type": "code",
   "execution_count": 4,
   "metadata": {},
   "outputs": [
    {
     "name": "stdout",
     "output_type": "stream",
     "text": [
      "Tests Passed\n"
     ]
    }
   ],
   "source": [
    "def one_hot_encode(x):\n",
    "    \"\"\"\n",
    "    One hot encode a list of sample labels. Return a one-hot encoded vector for each label.\n",
    "    : x: List of sample Labels\n",
    "    : return: Numpy array of one-hot encoded labels\n",
    "    \"\"\"\n",
    "   \n",
    "    # TODO: Implement Function\n",
    "    a = np.zeros([len(x),10])\n",
    "    i=0\n",
    "    for ele in x:\n",
    "        a[i][ele] = 1\n",
    "        i = i+1\n",
    "    \n",
    "    return a\n",
    "\n",
    "\n",
    "\"\"\"\n",
    "DON'T MODIFY ANYTHING IN THIS CELL THAT IS BELOW THIS LINE\n",
    "\"\"\"\n",
    "tests.test_one_hot_encode(one_hot_encode)"
   ]
  },
  {
   "cell_type": "code",
   "execution_count": 5,
   "metadata": {},
   "outputs": [],
   "source": [
    "\"\"\"\n",
    "DON'T MODIFY ANYTHING IN THIS CELL\n",
    "\"\"\"\n",
    "# Preprocess Training, Validation, and Testing Data\n",
    "helper.preprocess_and_save_data(cifar10_dataset_folder_path, normalize, one_hot_encode)"
   ]
  },
  {
   "cell_type": "code",
   "execution_count": 6,
   "metadata": {
    "collapsed": true
   },
   "outputs": [],
   "source": [
    "\"\"\"\n",
    "DON'T MODIFY ANYTHING IN THIS CELL\n",
    "\"\"\"\n",
    "import pickle\n",
    "import problem_unittests as tests\n",
    "import helper\n",
    "\n",
    "# Load the Preprocessed Validation data\n",
    "valid_features, valid_labels = pickle.load(open('preprocess_validation.p', mode='rb'))"
   ]
  },
  {
   "cell_type": "code",
   "execution_count": 7,
   "metadata": {},
   "outputs": [
    {
     "name": "stdout",
     "output_type": "stream",
     "text": [
      "Image Input Tests Passed.\n",
      "Label Input Tests Passed.\n",
      "Keep Prob Tests Passed.\n"
     ]
    }
   ],
   "source": [
    "import tensorflow as tf\n",
    "\n",
    "def neural_net_image_input(image_shape):\n",
    "    \"\"\"\n",
    "    Return a Tensor for a batch of image input\n",
    "    : image_shape: Shape of the images\n",
    "    : return: Tensor for image input.\n",
    "    \"\"\"\n",
    "    # TODO: Implement Function\n",
    "    return tf.placeholder(tf.float32, shape=[None,image_shape[0],image_shape[1],image_shape[2]],name='x')\n",
    "\n",
    "\n",
    "def neural_net_label_input(n_classes):\n",
    "    \"\"\"\n",
    "    Return a Tensor for a batch of label input\n",
    "    : n_classes: Number of classes\n",
    "    : return: Tensor for label input.\n",
    "    \"\"\"\n",
    "    # TODO: Implement Function\n",
    "    return tf.placeholder(tf.float32,shape=[None,n_classes], name='y')\n",
    "\n",
    "\n",
    "def neural_net_keep_prob_input():\n",
    "    \"\"\"\n",
    "    Return a Tensor for keep probability\n",
    "    : return: Tensor for keep probability.\n",
    "    \"\"\"\n",
    "    # TODO: Implement Function\n",
    "    return tf.placeholder(tf.float32, name='keep_prob' )\n",
    "\n",
    "\n",
    "\"\"\"\n",
    "DON'T MODIFY ANYTHING IN THIS CELL THAT IS BELOW THIS LINE\n",
    "\"\"\"\n",
    "tf.reset_default_graph()\n",
    "tests.test_nn_image_inputs(neural_net_image_input)\n",
    "tests.test_nn_label_inputs(neural_net_label_input)\n",
    "tests.test_nn_keep_prob_inputs(neural_net_keep_prob_input)"
   ]
  },
  {
   "cell_type": "code",
   "execution_count": 8,
   "metadata": {},
   "outputs": [
    {
     "name": "stdout",
     "output_type": "stream",
     "text": [
      "Tests Passed\n"
     ]
    }
   ],
   "source": [
    "def conv2d_maxpool(x_tensor, conv_num_outputs, conv_ksize, conv_strides, pool_ksize, pool_strides):\n",
    "    \"\"\"\n",
    "    Apply convolution then max pooling to x_tensor\n",
    "    :param x_tensor: TensorFlow Tensor\n",
    "    :param conv_num_outputs: Number of outputs for the convolutional layer\n",
    "    :param conv_ksize: kernal size 2-D Tuple for the convolutional layer\n",
    "    :param conv_strides: Stride 2-D Tuple for convolution\n",
    "    :param pool_ksize: kernal size 2-D Tuple for pool\n",
    "    :param pool_strides: Stride 2-D Tuple for pool\n",
    "    : return: A tensor that represents convolution and max pooling of x_tensor\n",
    "    \"\"\"\n",
    "    # TODO: Implement Function\n",
    "    c = x_tensor.shape[3].value\n",
    "    weight = tf.Variable(tf.truncated_normal([conv_ksize[0],conv_ksize[1],c,conv_num_outputs], mean=0, stddev=0.1))\n",
    "    bias = tf.Variable(tf.zeros([conv_num_outputs]))\n",
    "    conv = tf.nn.conv2d(x_tensor, weight, strides=[1, conv_strides[0], conv_strides[1], 1], padding='SAME')\n",
    "    conv = tf.nn.bias_add(conv, bias)\n",
    "    conv = tf.nn.relu(conv)\n",
    "    conv = tf.nn.max_pool(conv,ksize=[1, pool_ksize[0], pool_ksize[1], 1], strides=[1, pool_strides[0], pool_strides[1], 1], padding='SAME' )\n",
    "    return conv\n",
    "\"\"\"\n",
    "DON'T MODIFY ANYTHING IN THIS CELL THAT IS BELOW THIS LINE\n",
    "\"\"\"\n",
    "tests.test_con_pool(conv2d_maxpool)"
   ]
  },
  {
   "cell_type": "code",
   "execution_count": 9,
   "metadata": {},
   "outputs": [
    {
     "name": "stdout",
     "output_type": "stream",
     "text": [
      "Tests Passed\n"
     ]
    }
   ],
   "source": [
    "def flatten(x_tensor):\n",
    "    \"\"\"\n",
    "    Flatten x_tensor to (Batch Size, Flattened Image Size)\n",
    "    : x_tensor: A tensor of size (Batch Size, ...), where ... are the image dimensions.\n",
    "    : return: A tensor of size (Batch Size, Flattened Image Size).\n",
    "    \"\"\"\n",
    "    # TODO: Implement Function\n",
    "    #return tf.reshape(x_tensor,[-1,32*32*3] )\n",
    "    return tf.contrib.layers.flatten(x_tensor)\n",
    "\n",
    "\n",
    "\"\"\"\n",
    "DON'T MODIFY ANYTHING IN THIS CELL THAT IS BELOW THIS LINE\n",
    "\"\"\"\n",
    "tests.test_flatten(flatten)"
   ]
  },
  {
   "cell_type": "code",
   "execution_count": 10,
   "metadata": {},
   "outputs": [
    {
     "name": "stdout",
     "output_type": "stream",
     "text": [
      "Tests Passed\n"
     ]
    }
   ],
   "source": [
    "def fully_conn(x_tensor, num_outputs):\n",
    "    \"\"\"\n",
    "    Apply a fully connected layer to x_tensor using weight and bias\n",
    "    : x_tensor: A 2-D tensor where the first dimension is batch size.\n",
    "    : num_outputs: The number of output that the new tensor should be.\n",
    "    : return: A 2-D tensor where the second dimension is num_outputs.\n",
    "    \"\"\"\n",
    "    # TODO: Implement Function\n",
    "    size = x_tensor.shape[1].value\n",
    "    weight = tf.Variable(tf.truncated_normal([size,num_outputs], mean=0, stddev=0.1))\n",
    "    bias = tf.Variable(tf.zeros([num_outputs]))\n",
    "    layer = tf.matmul(x_tensor, weight)+bias\n",
    "    return tf.nn.relu(layer)\n",
    "\n",
    "\"\"\"\n",
    "DON'T MODIFY ANYTHING IN THIS CELL THAT IS BELOW THIS LINE\n",
    "\"\"\"\n",
    "tests.test_fully_conn(fully_conn)"
   ]
  },
  {
   "cell_type": "code",
   "execution_count": 11,
   "metadata": {},
   "outputs": [
    {
     "name": "stdout",
     "output_type": "stream",
     "text": [
      "Tests Passed\n"
     ]
    }
   ],
   "source": [
    "def output(x_tensor, num_outputs):\n",
    "    \"\"\"\n",
    "    Apply a output layer to x_tensor using weight and bias\n",
    "    : x_tensor: A 2-D tensor where the first dimension is batch size.\n",
    "    : num_outputs: The number of output that the new tensor should be.\n",
    "    : return: A 2-D tensor where the second dimension is num_outputs.\n",
    "    \"\"\"\n",
    "    # TODO: Implement Function\n",
    "    size = x_tensor.shape[1].value\n",
    "    weight = tf.Variable(tf.truncated_normal([size,num_outputs], mean=0, stddev=0.1))\n",
    "    bias = tf.Variable(tf.zeros([num_outputs]))\n",
    "    return tf.matmul(x_tensor, weight)+bias\n",
    "\n",
    "\n",
    "\"\"\"\n",
    "DON'T MODIFY ANYTHING IN THIS CELL THAT IS BELOW THIS LINE\n",
    "\"\"\"\n",
    "tests.test_output(output)"
   ]
  },
  {
   "cell_type": "code",
   "execution_count": 12,
   "metadata": {},
   "outputs": [
    {
     "name": "stdout",
     "output_type": "stream",
     "text": [
      "Neural Network Built!\n"
     ]
    }
   ],
   "source": [
    "def conv_net(x, keep_prob):\n",
    "    \"\"\"\n",
    "    Create a convolutional neural network model\n",
    "    : x: Placeholder tensor that holds image data.\n",
    "    : keep_prob: Placeholder tensor that hold dropout keep probability.\n",
    "    : return: Tensor that represents logits\n",
    "    \"\"\"\n",
    "    conv_ksize = [4, 4]\n",
    "    conv_strides = [1, 1]\n",
    "    pool_ksize = [2, 2]\n",
    "    pool_strides = [2, 2]\n",
    "    # TODO: Apply 1, 2, or 3 Convolution and Max Pool layers\n",
    "    #    Play around with different number of outputs, kernel size and stride\n",
    "    # Function Definition from Above:\n",
    "    #    conv2d_maxpool(x_tensor, conv_num_outputs, conv_ksize, conv_strides, pool_ksize, pool_strides)\n",
    "    conv = conv2d_maxpool(x, 16, conv_ksize, conv_strides, pool_ksize, pool_strides)\n",
    "    conv = conv2d_maxpool(conv, 32, conv_ksize, conv_strides, pool_ksize, pool_strides)\n",
    "    conv = conv2d_maxpool(conv, 64, conv_ksize, conv_strides, pool_ksize, pool_strides)\n",
    "    # TODO: Apply a Flatten Layer\n",
    "    # Function Definition from Above:\n",
    "    #   flatten(x_tensor)\n",
    "    a = flatten(conv)\n",
    "\n",
    "    # TODO: Apply 1, 2, or 3 Fully Connected Layers\n",
    "    #    Play around with different number of outputs\n",
    "    # Function Definition from Above:\n",
    "    #   fully_conn(x_tensor, num_outputs)\n",
    "    b = fully_conn(a, 10)\n",
    "    b= tf.nn.dropout(b,keep_prob)\n",
    "    \n",
    "    # TODO: Apply an Output Layer\n",
    "    #    Set this to the number of classes\n",
    "    # Function Definition from Above:\n",
    "    #   output(x_tensor, num_outputs)\n",
    "    c= output(b, 10)\n",
    "    \n",
    "    # TODO: return output\n",
    "    return c\n",
    "\n",
    "\n",
    "\"\"\"\n",
    "DON'T MODIFY ANYTHING IN THIS CELL THAT IS BELOW THIS LINE\n",
    "\"\"\"\n",
    "\n",
    "##############################\n",
    "## Build the Neural Network ##\n",
    "##############################\n",
    "\n",
    "# Remove previous weights, bias, inputs, etc..\n",
    "tf.reset_default_graph()\n",
    "\n",
    "# Inputs\n",
    "x = neural_net_image_input((32, 32, 3))\n",
    "y = neural_net_label_input(10)\n",
    "keep_prob = neural_net_keep_prob_input()\n",
    "\n",
    "# Model\n",
    "logits = conv_net(x, keep_prob)\n",
    "\n",
    "# Name logits Tensor, so that is can be loaded from disk after training\n",
    "logits = tf.identity(logits, name='logits')\n",
    "\n",
    "# Loss and Optimizer\n",
    "cost = tf.reduce_mean(tf.nn.softmax_cross_entropy_with_logits(logits=logits, labels=y))\n",
    "optimizer = tf.train.AdamOptimizer().minimize(cost)\n",
    "\n",
    "# Accuracy\n",
    "correct_pred = tf.equal(tf.argmax(logits, 1), tf.argmax(y, 1))\n",
    "accuracy = tf.reduce_mean(tf.cast(correct_pred, tf.float32), name='accuracy')\n",
    "\n",
    "tests.test_conv_net(conv_net)"
   ]
  },
  {
   "cell_type": "code",
   "execution_count": 13,
   "metadata": {},
   "outputs": [
    {
     "name": "stdout",
     "output_type": "stream",
     "text": [
      "Tests Passed\n"
     ]
    }
   ],
   "source": [
    "def train_neural_network(session, optimizer, keep_probability, feature_batch, label_batch):\n",
    "    \"\"\"\n",
    "    Optimize the session on a batch of images and labels\n",
    "    : session: Current TensorFlow session\n",
    "    : optimizer: TensorFlow optimizer function\n",
    "    : keep_probability: keep probability\n",
    "    : feature_batch: Batch of Numpy image data\n",
    "    : label_batch: Batch of Numpy label data\n",
    "    \"\"\"\n",
    "    # TODO: Implement Function\n",
    "    session.run(optimizer, feed_dict={x:feature_batch, y:label_batch, keep_prob:keep_probability})\n",
    "\n",
    "\n",
    "\"\"\"\n",
    "DON'T MODIFY ANYTHING IN THIS CELL THAT IS BELOW THIS LINE\n",
    "\"\"\"\n",
    "tests.test_train_nn(train_neural_network)"
   ]
  },
  {
   "cell_type": "code",
   "execution_count": 14,
   "metadata": {},
   "outputs": [],
   "source": [
    "def print_stats(session, feature_batch, label_batch, cost, accuracy):\n",
    "    \"\"\"\n",
    "    Print information about loss and validation accuracy\n",
    "    : session: Current TensorFlow session\n",
    "    : feature_batch: Batch of Numpy image data\n",
    "    : label_batch: Batch of Numpy label data\n",
    "    : cost: TensorFlow cost function\n",
    "    : accuracy: TensorFlow accuracy function\n",
    "    \"\"\"\n",
    "    # TODO: Implement Function\n",
    "    \n",
    "    validation_accuracy = session.run(accuracy, feed_dict={x:valid_features, y:valid_labels, keep_prob:1.0})\n",
    "    loss = session.run(cost, feed_dict={x:feature_batch, y:label_batch, keep_prob:1.0})\n",
    "    print('Loss: {:>10.4f} Validation Accuracy: {:.6f}'.format(loss, validation_accuracy))"
   ]
  },
  {
   "cell_type": "code",
   "execution_count": 17,
   "metadata": {
    "collapsed": true
   },
   "outputs": [],
   "source": [
    "# TODO: Tune Parameters\n",
    "epochs = 40\n",
    "batch_size = 128\n",
    "keep_probability = 0.75"
   ]
  },
  {
   "cell_type": "code",
   "execution_count": 18,
   "metadata": {},
   "outputs": [
    {
     "name": "stdout",
     "output_type": "stream",
     "text": [
      "Checking the Training on a Single Batch...\n",
      "Epoch  1, CIFAR-10 Batch 1:  Loss:     2.2376 Validation Accuracy: 0.199000\n",
      "Epoch  2, CIFAR-10 Batch 1:  Loss:     2.1725 Validation Accuracy: 0.253200\n",
      "Epoch  3, CIFAR-10 Batch 1:  Loss:     2.1098 Validation Accuracy: 0.250800\n",
      "Epoch  4, CIFAR-10 Batch 1:  Loss:     2.0753 Validation Accuracy: 0.301200\n",
      "Epoch  5, CIFAR-10 Batch 1:  Loss:     2.0090 Validation Accuracy: 0.303600\n",
      "Epoch  6, CIFAR-10 Batch 1:  Loss:     1.9810 Validation Accuracy: 0.300000\n",
      "Epoch  7, CIFAR-10 Batch 1:  Loss:     1.8481 Validation Accuracy: 0.311800\n",
      "Epoch  8, CIFAR-10 Batch 1:  Loss:     1.7516 Validation Accuracy: 0.329200\n",
      "Epoch  9, CIFAR-10 Batch 1:  Loss:     1.6681 Validation Accuracy: 0.375000\n",
      "Epoch 10, CIFAR-10 Batch 1:  Loss:     1.5568 Validation Accuracy: 0.405600\n",
      "Epoch 11, CIFAR-10 Batch 1:  Loss:     1.4890 Validation Accuracy: 0.417400\n",
      "Epoch 12, CIFAR-10 Batch 1:  Loss:     1.3498 Validation Accuracy: 0.443800\n",
      "Epoch 13, CIFAR-10 Batch 1:  Loss:     1.2977 Validation Accuracy: 0.458800\n",
      "Epoch 14, CIFAR-10 Batch 1:  Loss:     1.2384 Validation Accuracy: 0.471200\n",
      "Epoch 15, CIFAR-10 Batch 1:  Loss:     1.2002 Validation Accuracy: 0.461400\n",
      "Epoch 16, CIFAR-10 Batch 1:  Loss:     1.1264 Validation Accuracy: 0.462400\n",
      "Epoch 17, CIFAR-10 Batch 1:  Loss:     1.0871 Validation Accuracy: 0.471200\n",
      "Epoch 18, CIFAR-10 Batch 1:  Loss:     1.0460 Validation Accuracy: 0.468000\n",
      "Epoch 19, CIFAR-10 Batch 1:  Loss:     1.0116 Validation Accuracy: 0.475200\n",
      "Epoch 20, CIFAR-10 Batch 1:  Loss:     1.0145 Validation Accuracy: 0.478800\n",
      "Epoch 21, CIFAR-10 Batch 1:  Loss:     0.9641 Validation Accuracy: 0.478400\n",
      "Epoch 22, CIFAR-10 Batch 1:  Loss:     0.9167 Validation Accuracy: 0.501200\n",
      "Epoch 23, CIFAR-10 Batch 1:  Loss:     0.8744 Validation Accuracy: 0.484000\n",
      "Epoch 24, CIFAR-10 Batch 1:  Loss:     0.8663 Validation Accuracy: 0.478200\n",
      "Epoch 25, CIFAR-10 Batch 1:  Loss:     0.8661 Validation Accuracy: 0.492200\n",
      "Epoch 26, CIFAR-10 Batch 1:  Loss:     0.9178 Validation Accuracy: 0.494800\n",
      "Epoch 27, CIFAR-10 Batch 1:  Loss:     0.8102 Validation Accuracy: 0.492800\n",
      "Epoch 28, CIFAR-10 Batch 1:  Loss:     0.8205 Validation Accuracy: 0.500800\n",
      "Epoch 29, CIFAR-10 Batch 1:  Loss:     0.7713 Validation Accuracy: 0.496800\n",
      "Epoch 30, CIFAR-10 Batch 1:  Loss:     0.7384 Validation Accuracy: 0.486000\n",
      "Epoch 31, CIFAR-10 Batch 1:  Loss:     0.7225 Validation Accuracy: 0.486000\n",
      "Epoch 32, CIFAR-10 Batch 1:  Loss:     0.7352 Validation Accuracy: 0.487600\n",
      "Epoch 33, CIFAR-10 Batch 1:  Loss:     0.7384 Validation Accuracy: 0.477400\n",
      "Epoch 34, CIFAR-10 Batch 1:  Loss:     0.7024 Validation Accuracy: 0.491800\n",
      "Epoch 35, CIFAR-10 Batch 1:  Loss:     0.6685 Validation Accuracy: 0.477600\n",
      "Epoch 36, CIFAR-10 Batch 1:  Loss:     0.6548 Validation Accuracy: 0.503800\n",
      "Epoch 37, CIFAR-10 Batch 1:  Loss:     0.6949 Validation Accuracy: 0.493400\n",
      "Epoch 38, CIFAR-10 Batch 1:  Loss:     0.6230 Validation Accuracy: 0.501400\n",
      "Epoch 39, CIFAR-10 Batch 1:  Loss:     0.6279 Validation Accuracy: 0.504200\n",
      "Epoch 40, CIFAR-10 Batch 1:  Loss:     0.6659 Validation Accuracy: 0.488200\n"
     ]
    }
   ],
   "source": [
    "\"\"\"\n",
    "DON'T MODIFY ANYTHING IN THIS CELL\n",
    "\"\"\"\n",
    "print('Checking the Training on a Single Batch...')\n",
    "with tf.Session() as sess:\n",
    "    # Initializing the variables\n",
    "    sess.run(tf.global_variables_initializer())\n",
    "    \n",
    "    # Training cycle\n",
    "    for epoch in range(epochs):\n",
    "        batch_i = 1\n",
    "        for batch_features, batch_labels in helper.load_preprocess_training_batch(batch_i, batch_size):\n",
    "            train_neural_network(sess, optimizer, keep_probability, batch_features, batch_labels)\n",
    "        print('Epoch {:>2}, CIFAR-10 Batch {}:  '.format(epoch + 1, batch_i), end='')\n",
    "        print_stats(sess, batch_features, batch_labels, cost, accuracy)"
   ]
  },
  {
   "cell_type": "code",
   "execution_count": 19,
   "metadata": {},
   "outputs": [
    {
     "name": "stdout",
     "output_type": "stream",
     "text": [
      "Training...\n",
      "Epoch  1, CIFAR-10 Batch 1:  Loss:     2.2560 Validation Accuracy: 0.133800\n",
      "Epoch  1, CIFAR-10 Batch 2:  Loss:     2.2469 Validation Accuracy: 0.200200\n",
      "Epoch  1, CIFAR-10 Batch 3:  Loss:     1.7933 Validation Accuracy: 0.297200\n",
      "Epoch  1, CIFAR-10 Batch 4:  Loss:     1.7725 Validation Accuracy: 0.339000\n",
      "Epoch  1, CIFAR-10 Batch 5:  Loss:     1.7707 Validation Accuracy: 0.367800\n",
      "Epoch  2, CIFAR-10 Batch 1:  Loss:     1.8929 Validation Accuracy: 0.392200\n",
      "Epoch  2, CIFAR-10 Batch 2:  Loss:     1.8089 Validation Accuracy: 0.362600\n",
      "Epoch  2, CIFAR-10 Batch 3:  Loss:     1.5501 Validation Accuracy: 0.413200\n",
      "Epoch  2, CIFAR-10 Batch 4:  Loss:     1.6109 Validation Accuracy: 0.433400\n",
      "Epoch  2, CIFAR-10 Batch 5:  Loss:     1.6486 Validation Accuracy: 0.444600\n",
      "Epoch  3, CIFAR-10 Batch 1:  Loss:     1.6521 Validation Accuracy: 0.434600\n",
      "Epoch  3, CIFAR-10 Batch 2:  Loss:     1.6071 Validation Accuracy: 0.445800\n",
      "Epoch  3, CIFAR-10 Batch 3:  Loss:     1.3616 Validation Accuracy: 0.459200\n",
      "Epoch  3, CIFAR-10 Batch 4:  Loss:     1.5026 Validation Accuracy: 0.469000\n",
      "Epoch  3, CIFAR-10 Batch 5:  Loss:     1.5437 Validation Accuracy: 0.485600\n",
      "Epoch  4, CIFAR-10 Batch 1:  Loss:     1.5443 Validation Accuracy: 0.480800\n",
      "Epoch  4, CIFAR-10 Batch 2:  Loss:     1.4114 Validation Accuracy: 0.489400\n",
      "Epoch  4, CIFAR-10 Batch 3:  Loss:     1.2855 Validation Accuracy: 0.485600\n",
      "Epoch  4, CIFAR-10 Batch 4:  Loss:     1.4116 Validation Accuracy: 0.491400\n",
      "Epoch  4, CIFAR-10 Batch 5:  Loss:     1.4622 Validation Accuracy: 0.499200\n",
      "Epoch  5, CIFAR-10 Batch 1:  Loss:     1.4559 Validation Accuracy: 0.509600\n",
      "Epoch  5, CIFAR-10 Batch 2:  Loss:     1.3986 Validation Accuracy: 0.515000\n",
      "Epoch  5, CIFAR-10 Batch 3:  Loss:     1.1921 Validation Accuracy: 0.500600\n",
      "Epoch  5, CIFAR-10 Batch 4:  Loss:     1.3206 Validation Accuracy: 0.504800\n",
      "Epoch  5, CIFAR-10 Batch 5:  Loss:     1.4261 Validation Accuracy: 0.518600\n",
      "Epoch  6, CIFAR-10 Batch 1:  Loss:     1.4434 Validation Accuracy: 0.532200\n",
      "Epoch  6, CIFAR-10 Batch 2:  Loss:     1.3361 Validation Accuracy: 0.533400\n",
      "Epoch  6, CIFAR-10 Batch 3:  Loss:     1.1091 Validation Accuracy: 0.533200\n",
      "Epoch  6, CIFAR-10 Batch 4:  Loss:     1.2690 Validation Accuracy: 0.537400\n",
      "Epoch  6, CIFAR-10 Batch 5:  Loss:     1.3807 Validation Accuracy: 0.537000\n",
      "Epoch  7, CIFAR-10 Batch 1:  Loss:     1.3230 Validation Accuracy: 0.553400\n",
      "Epoch  7, CIFAR-10 Batch 2:  Loss:     1.2103 Validation Accuracy: 0.543800\n",
      "Epoch  7, CIFAR-10 Batch 3:  Loss:     1.0196 Validation Accuracy: 0.556400\n",
      "Epoch  7, CIFAR-10 Batch 4:  Loss:     1.2337 Validation Accuracy: 0.554600\n",
      "Epoch  7, CIFAR-10 Batch 5:  Loss:     1.2589 Validation Accuracy: 0.547600\n",
      "Epoch  8, CIFAR-10 Batch 1:  Loss:     1.2778 Validation Accuracy: 0.555400\n",
      "Epoch  8, CIFAR-10 Batch 2:  Loss:     1.1572 Validation Accuracy: 0.562200\n",
      "Epoch  8, CIFAR-10 Batch 3:  Loss:     0.9818 Validation Accuracy: 0.557000\n",
      "Epoch  8, CIFAR-10 Batch 4:  Loss:     1.1491 Validation Accuracy: 0.569600\n",
      "Epoch  8, CIFAR-10 Batch 5:  Loss:     1.2383 Validation Accuracy: 0.558600\n",
      "Epoch  9, CIFAR-10 Batch 1:  Loss:     1.1871 Validation Accuracy: 0.564600\n",
      "Epoch  9, CIFAR-10 Batch 2:  Loss:     1.1538 Validation Accuracy: 0.581000\n",
      "Epoch  9, CIFAR-10 Batch 3:  Loss:     0.9114 Validation Accuracy: 0.568000\n",
      "Epoch  9, CIFAR-10 Batch 4:  Loss:     1.1400 Validation Accuracy: 0.583400\n",
      "Epoch  9, CIFAR-10 Batch 5:  Loss:     1.1372 Validation Accuracy: 0.552800\n",
      "Epoch 10, CIFAR-10 Batch 1:  Loss:     1.1294 Validation Accuracy: 0.566600\n",
      "Epoch 10, CIFAR-10 Batch 2:  Loss:     1.0562 Validation Accuracy: 0.588000\n",
      "Epoch 10, CIFAR-10 Batch 3:  Loss:     0.8256 Validation Accuracy: 0.563200\n",
      "Epoch 10, CIFAR-10 Batch 4:  Loss:     1.0741 Validation Accuracy: 0.583600\n",
      "Epoch 10, CIFAR-10 Batch 5:  Loss:     1.0810 Validation Accuracy: 0.561800\n",
      "Epoch 11, CIFAR-10 Batch 1:  Loss:     1.0588 Validation Accuracy: 0.589400\n",
      "Epoch 11, CIFAR-10 Batch 2:  Loss:     1.0689 Validation Accuracy: 0.580000\n",
      "Epoch 11, CIFAR-10 Batch 3:  Loss:     0.8210 Validation Accuracy: 0.560800\n",
      "Epoch 11, CIFAR-10 Batch 4:  Loss:     1.0557 Validation Accuracy: 0.590200\n",
      "Epoch 11, CIFAR-10 Batch 5:  Loss:     1.0433 Validation Accuracy: 0.590000\n",
      "Epoch 12, CIFAR-10 Batch 1:  Loss:     1.0141 Validation Accuracy: 0.587800\n",
      "Epoch 12, CIFAR-10 Batch 2:  Loss:     0.9624 Validation Accuracy: 0.597200\n",
      "Epoch 12, CIFAR-10 Batch 3:  Loss:     0.7688 Validation Accuracy: 0.584000\n",
      "Epoch 12, CIFAR-10 Batch 4:  Loss:     0.9919 Validation Accuracy: 0.599800\n",
      "Epoch 12, CIFAR-10 Batch 5:  Loss:     0.9518 Validation Accuracy: 0.604200\n",
      "Epoch 13, CIFAR-10 Batch 1:  Loss:     0.9862 Validation Accuracy: 0.595600\n",
      "Epoch 13, CIFAR-10 Batch 2:  Loss:     0.9500 Validation Accuracy: 0.600000\n",
      "Epoch 13, CIFAR-10 Batch 3:  Loss:     0.7496 Validation Accuracy: 0.610400\n",
      "Epoch 13, CIFAR-10 Batch 4:  Loss:     0.9333 Validation Accuracy: 0.610000\n",
      "Epoch 13, CIFAR-10 Batch 5:  Loss:     0.8552 Validation Accuracy: 0.611000\n",
      "Epoch 14, CIFAR-10 Batch 1:  Loss:     0.9460 Validation Accuracy: 0.589800\n",
      "Epoch 14, CIFAR-10 Batch 2:  Loss:     0.9097 Validation Accuracy: 0.615000\n",
      "Epoch 14, CIFAR-10 Batch 3:  Loss:     0.7393 Validation Accuracy: 0.612800\n",
      "Epoch 14, CIFAR-10 Batch 4:  Loss:     0.8947 Validation Accuracy: 0.611400\n",
      "Epoch 14, CIFAR-10 Batch 5:  Loss:     0.9074 Validation Accuracy: 0.614800\n",
      "Epoch 15, CIFAR-10 Batch 1:  Loss:     0.8959 Validation Accuracy: 0.593000\n",
      "Epoch 15, CIFAR-10 Batch 2:  Loss:     0.8947 Validation Accuracy: 0.607800\n",
      "Epoch 15, CIFAR-10 Batch 3:  Loss:     0.6859 Validation Accuracy: 0.614600\n",
      "Epoch 15, CIFAR-10 Batch 4:  Loss:     0.8627 Validation Accuracy: 0.605600\n",
      "Epoch 15, CIFAR-10 Batch 5:  Loss:     0.7847 Validation Accuracy: 0.610200\n",
      "Epoch 16, CIFAR-10 Batch 1:  Loss:     0.8832 Validation Accuracy: 0.607600\n",
      "Epoch 16, CIFAR-10 Batch 2:  Loss:     0.8372 Validation Accuracy: 0.617200\n",
      "Epoch 16, CIFAR-10 Batch 3:  Loss:     0.6739 Validation Accuracy: 0.607000\n",
      "Epoch 16, CIFAR-10 Batch 4:  Loss:     0.8626 Validation Accuracy: 0.617600\n",
      "Epoch 16, CIFAR-10 Batch 5:  Loss:     0.7904 Validation Accuracy: 0.615600\n",
      "Epoch 17, CIFAR-10 Batch 1:  Loss:     0.8188 Validation Accuracy: 0.613000\n",
      "Epoch 17, CIFAR-10 Batch 2:  Loss:     0.8439 Validation Accuracy: 0.618400\n",
      "Epoch 17, CIFAR-10 Batch 3:  Loss:     0.6326 Validation Accuracy: 0.619400\n",
      "Epoch 17, CIFAR-10 Batch 4:  Loss:     0.8203 Validation Accuracy: 0.622200\n",
      "Epoch 17, CIFAR-10 Batch 5:  Loss:     0.7809 Validation Accuracy: 0.602000\n",
      "Epoch 18, CIFAR-10 Batch 1:  Loss:     0.7883 Validation Accuracy: 0.606000\n",
      "Epoch 18, CIFAR-10 Batch 2:  Loss:     0.8120 Validation Accuracy: 0.604400\n",
      "Epoch 18, CIFAR-10 Batch 3:  Loss:     0.6051 Validation Accuracy: 0.624800\n",
      "Epoch 18, CIFAR-10 Batch 4:  Loss:     0.7549 Validation Accuracy: 0.628600\n",
      "Epoch 18, CIFAR-10 Batch 5:  Loss:     0.7180 Validation Accuracy: 0.605200\n",
      "Epoch 19, CIFAR-10 Batch 1:  Loss:     0.7692 Validation Accuracy: 0.610200\n",
      "Epoch 19, CIFAR-10 Batch 2:  Loss:     0.7783 Validation Accuracy: 0.616000\n",
      "Epoch 19, CIFAR-10 Batch 3:  Loss:     0.5695 Validation Accuracy: 0.625400\n",
      "Epoch 19, CIFAR-10 Batch 4:  Loss:     0.7062 Validation Accuracy: 0.629600\n",
      "Epoch 19, CIFAR-10 Batch 5:  Loss:     0.6677 Validation Accuracy: 0.626400\n",
      "Epoch 20, CIFAR-10 Batch 1:  Loss:     0.7289 Validation Accuracy: 0.611800\n",
      "Epoch 20, CIFAR-10 Batch 2:  Loss:     0.7682 Validation Accuracy: 0.601800\n",
      "Epoch 20, CIFAR-10 Batch 3:  Loss:     0.5939 Validation Accuracy: 0.625800\n",
      "Epoch 20, CIFAR-10 Batch 4:  Loss:     0.7258 Validation Accuracy: 0.631000\n",
      "Epoch 20, CIFAR-10 Batch 5:  Loss:     0.6744 Validation Accuracy: 0.617400\n",
      "Epoch 21, CIFAR-10 Batch 1:  Loss:     0.6921 Validation Accuracy: 0.617200\n",
      "Epoch 21, CIFAR-10 Batch 2:  Loss:     0.7242 Validation Accuracy: 0.606200\n",
      "Epoch 21, CIFAR-10 Batch 3:  Loss:     0.5519 Validation Accuracy: 0.637200\n",
      "Epoch 21, CIFAR-10 Batch 4:  Loss:     0.7058 Validation Accuracy: 0.625400\n",
      "Epoch 21, CIFAR-10 Batch 5:  Loss:     0.6273 Validation Accuracy: 0.605400\n",
      "Epoch 22, CIFAR-10 Batch 1:  Loss:     0.7084 Validation Accuracy: 0.606600\n",
      "Epoch 22, CIFAR-10 Batch 2:  Loss:     0.7380 Validation Accuracy: 0.614800\n",
      "Epoch 22, CIFAR-10 Batch 3:  Loss:     0.5628 Validation Accuracy: 0.622200\n",
      "Epoch 22, CIFAR-10 Batch 4:  Loss:     0.6766 Validation Accuracy: 0.629400\n",
      "Epoch 22, CIFAR-10 Batch 5:  Loss:     0.6337 Validation Accuracy: 0.611800\n",
      "Epoch 23, CIFAR-10 Batch 1:  Loss:     0.6562 Validation Accuracy: 0.627000\n",
      "Epoch 23, CIFAR-10 Batch 2:  Loss:     0.7280 Validation Accuracy: 0.625200\n",
      "Epoch 23, CIFAR-10 Batch 3:  Loss:     0.5473 Validation Accuracy: 0.632600\n",
      "Epoch 23, CIFAR-10 Batch 4:  Loss:     0.6787 Validation Accuracy: 0.628600\n",
      "Epoch 23, CIFAR-10 Batch 5:  Loss:     0.5871 Validation Accuracy: 0.609400\n",
      "Epoch 24, CIFAR-10 Batch 1:  Loss:     0.6575 Validation Accuracy: 0.626600\n",
      "Epoch 24, CIFAR-10 Batch 2:  Loss:     0.7257 Validation Accuracy: 0.614600\n",
      "Epoch 24, CIFAR-10 Batch 3:  Loss:     0.5537 Validation Accuracy: 0.631400\n",
      "Epoch 24, CIFAR-10 Batch 4:  Loss:     0.6651 Validation Accuracy: 0.625000\n",
      "Epoch 24, CIFAR-10 Batch 5:  Loss:     0.6053 Validation Accuracy: 0.616800\n",
      "Epoch 25, CIFAR-10 Batch 1:  Loss:     0.6760 Validation Accuracy: 0.621000\n",
      "Epoch 25, CIFAR-10 Batch 2:  Loss:     0.6597 Validation Accuracy: 0.623800\n",
      "Epoch 25, CIFAR-10 Batch 3:  Loss:     0.5159 Validation Accuracy: 0.628000\n",
      "Epoch 25, CIFAR-10 Batch 4:  Loss:     0.6888 Validation Accuracy: 0.632000\n",
      "Epoch 25, CIFAR-10 Batch 5:  Loss:     0.5718 Validation Accuracy: 0.611600\n",
      "Epoch 26, CIFAR-10 Batch 1:  Loss:     0.6619 Validation Accuracy: 0.628600\n",
      "Epoch 26, CIFAR-10 Batch 2:  Loss:     0.6216 Validation Accuracy: 0.639600\n",
      "Epoch 26, CIFAR-10 Batch 3:  Loss:     0.4902 Validation Accuracy: 0.639600\n",
      "Epoch 26, CIFAR-10 Batch 4:  Loss:     0.6404 Validation Accuracy: 0.625600\n",
      "Epoch 26, CIFAR-10 Batch 5:  Loss:     0.5230 Validation Accuracy: 0.621400\n",
      "Epoch 27, CIFAR-10 Batch 1:  Loss:     0.6249 Validation Accuracy: 0.628200\n",
      "Epoch 27, CIFAR-10 Batch 2:  Loss:     0.7346 Validation Accuracy: 0.625200\n",
      "Epoch 27, CIFAR-10 Batch 3:  Loss:     0.5203 Validation Accuracy: 0.624800\n",
      "Epoch 27, CIFAR-10 Batch 4:  Loss:     0.6257 Validation Accuracy: 0.625400\n",
      "Epoch 27, CIFAR-10 Batch 5:  Loss:     0.5112 Validation Accuracy: 0.617400\n",
      "Epoch 28, CIFAR-10 Batch 1:  Loss:     0.5863 Validation Accuracy: 0.631600\n",
      "Epoch 28, CIFAR-10 Batch 2:  Loss:     0.6845 Validation Accuracy: 0.614000\n",
      "Epoch 28, CIFAR-10 Batch 3:  Loss:     0.5058 Validation Accuracy: 0.632800\n",
      "Epoch 28, CIFAR-10 Batch 4:  Loss:     0.6176 Validation Accuracy: 0.634000\n",
      "Epoch 28, CIFAR-10 Batch 5:  Loss:     0.4514 Validation Accuracy: 0.629800\n",
      "Epoch 29, CIFAR-10 Batch 1:  Loss:     0.6062 Validation Accuracy: 0.623800\n",
      "Epoch 29, CIFAR-10 Batch 2:  Loss:     0.6287 Validation Accuracy: 0.619400\n",
      "Epoch 29, CIFAR-10 Batch 3:  Loss:     0.5127 Validation Accuracy: 0.630000\n",
      "Epoch 29, CIFAR-10 Batch 4:  Loss:     0.6035 Validation Accuracy: 0.630000\n",
      "Epoch 29, CIFAR-10 Batch 5:  Loss:     0.4565 Validation Accuracy: 0.629000\n",
      "Epoch 30, CIFAR-10 Batch 1:  Loss:     0.5349 Validation Accuracy: 0.626000\n",
      "Epoch 30, CIFAR-10 Batch 2:  Loss:     0.5617 Validation Accuracy: 0.625200\n",
      "Epoch 30, CIFAR-10 Batch 3:  Loss:     0.4767 Validation Accuracy: 0.634000\n",
      "Epoch 30, CIFAR-10 Batch 4:  Loss:     0.6218 Validation Accuracy: 0.623000\n",
      "Epoch 30, CIFAR-10 Batch 5:  Loss:     0.4577 Validation Accuracy: 0.626200\n",
      "Epoch 31, CIFAR-10 Batch 1:  Loss:     0.5827 Validation Accuracy: 0.641200\n",
      "Epoch 31, CIFAR-10 Batch 2:  Loss:     0.5929 Validation Accuracy: 0.612800\n",
      "Epoch 31, CIFAR-10 Batch 3:  Loss:     0.4625 Validation Accuracy: 0.634800\n",
      "Epoch 31, CIFAR-10 Batch 4:  Loss:     0.5585 Validation Accuracy: 0.636000\n",
      "Epoch 31, CIFAR-10 Batch 5:  Loss:     0.4967 Validation Accuracy: 0.633200\n",
      "Epoch 32, CIFAR-10 Batch 1:  Loss:     0.5091 Validation Accuracy: 0.631400\n",
      "Epoch 32, CIFAR-10 Batch 2:  Loss:     0.5617 Validation Accuracy: 0.627600\n",
      "Epoch 32, CIFAR-10 Batch 3:  Loss:     0.4659 Validation Accuracy: 0.628000\n",
      "Epoch 32, CIFAR-10 Batch 4:  Loss:     0.6020 Validation Accuracy: 0.621800\n",
      "Epoch 32, CIFAR-10 Batch 5:  Loss:     0.4561 Validation Accuracy: 0.637000\n",
      "Epoch 33, CIFAR-10 Batch 1:  Loss:     0.5382 Validation Accuracy: 0.624600\n",
      "Epoch 33, CIFAR-10 Batch 2:  Loss:     0.5034 Validation Accuracy: 0.622400\n",
      "Epoch 33, CIFAR-10 Batch 3:  Loss:     0.5490 Validation Accuracy: 0.618600\n",
      "Epoch 33, CIFAR-10 Batch 4:  Loss:     0.5966 Validation Accuracy: 0.625200\n",
      "Epoch 33, CIFAR-10 Batch 5:  Loss:     0.4557 Validation Accuracy: 0.624800\n",
      "Epoch 34, CIFAR-10 Batch 1:  Loss:     0.5183 Validation Accuracy: 0.621600\n",
      "Epoch 34, CIFAR-10 Batch 2:  Loss:     0.5104 Validation Accuracy: 0.627000\n",
      "Epoch 34, CIFAR-10 Batch 3:  Loss:     0.4891 Validation Accuracy: 0.627000\n",
      "Epoch 34, CIFAR-10 Batch 4:  Loss:     0.5716 Validation Accuracy: 0.621200\n",
      "Epoch 34, CIFAR-10 Batch 5:  Loss:     0.4812 Validation Accuracy: 0.632200\n",
      "Epoch 35, CIFAR-10 Batch 1:  Loss:     0.5113 Validation Accuracy: 0.629600\n",
      "Epoch 35, CIFAR-10 Batch 2:  Loss:     0.4384 Validation Accuracy: 0.629600\n",
      "Epoch 35, CIFAR-10 Batch 3:  Loss:     0.4713 Validation Accuracy: 0.624600\n",
      "Epoch 35, CIFAR-10 Batch 4:  Loss:     0.5933 Validation Accuracy: 0.617000\n",
      "Epoch 35, CIFAR-10 Batch 5:  Loss:     0.4279 Validation Accuracy: 0.633000\n",
      "Epoch 36, CIFAR-10 Batch 1:  Loss:     0.4978 Validation Accuracy: 0.639600\n",
      "Epoch 36, CIFAR-10 Batch 2:  Loss:     0.4991 Validation Accuracy: 0.632800\n",
      "Epoch 36, CIFAR-10 Batch 3:  Loss:     0.4873 Validation Accuracy: 0.626600\n",
      "Epoch 36, CIFAR-10 Batch 4:  Loss:     0.6085 Validation Accuracy: 0.601000\n",
      "Epoch 36, CIFAR-10 Batch 5:  Loss:     0.4123 Validation Accuracy: 0.644400\n",
      "Epoch 37, CIFAR-10 Batch 1:  Loss:     0.4820 Validation Accuracy: 0.640600\n",
      "Epoch 37, CIFAR-10 Batch 2:  Loss:     0.4644 Validation Accuracy: 0.634200\n",
      "Epoch 37, CIFAR-10 Batch 3:  Loss:     0.4336 Validation Accuracy: 0.630400\n",
      "Epoch 37, CIFAR-10 Batch 4:  Loss:     0.5586 Validation Accuracy: 0.624400\n",
      "Epoch 37, CIFAR-10 Batch 5:  Loss:     0.4002 Validation Accuracy: 0.635400\n",
      "Epoch 38, CIFAR-10 Batch 1:  Loss:     0.4867 Validation Accuracy: 0.639400\n",
      "Epoch 38, CIFAR-10 Batch 2:  Loss:     0.4637 Validation Accuracy: 0.633000\n",
      "Epoch 38, CIFAR-10 Batch 3:  Loss:     0.4180 Validation Accuracy: 0.622800\n",
      "Epoch 38, CIFAR-10 Batch 4:  Loss:     0.5604 Validation Accuracy: 0.629000\n",
      "Epoch 38, CIFAR-10 Batch 5:  Loss:     0.3943 Validation Accuracy: 0.634600\n",
      "Epoch 39, CIFAR-10 Batch 1:  Loss:     0.5181 Validation Accuracy: 0.631200\n",
      "Epoch 39, CIFAR-10 Batch 2:  Loss:     0.5070 Validation Accuracy: 0.621200\n",
      "Epoch 39, CIFAR-10 Batch 3:  Loss:     0.3909 Validation Accuracy: 0.633400\n",
      "Epoch 39, CIFAR-10 Batch 4:  Loss:     0.5443 Validation Accuracy: 0.627800\n",
      "Epoch 39, CIFAR-10 Batch 5:  Loss:     0.3861 Validation Accuracy: 0.635800\n",
      "Epoch 40, CIFAR-10 Batch 1:  Loss:     0.5013 Validation Accuracy: 0.633600\n",
      "Epoch 40, CIFAR-10 Batch 2:  Loss:     0.4564 Validation Accuracy: 0.633400\n",
      "Epoch 40, CIFAR-10 Batch 3:  Loss:     0.4420 Validation Accuracy: 0.625600\n",
      "Epoch 40, CIFAR-10 Batch 4:  Loss:     0.5344 Validation Accuracy: 0.628000\n",
      "Epoch 40, CIFAR-10 Batch 5:  Loss:     0.3705 Validation Accuracy: 0.636000\n"
     ]
    }
   ],
   "source": [
    "\"\"\"\n",
    "DON'T MODIFY ANYTHING IN THIS CELL\n",
    "\"\"\"\n",
    "save_model_path = './image_classification'\n",
    "\n",
    "print('Training...')\n",
    "with tf.Session() as sess:\n",
    "    # Initializing the variables\n",
    "    sess.run(tf.global_variables_initializer())\n",
    "    \n",
    "    # Training cycle\n",
    "    for epoch in range(epochs):\n",
    "        # Loop over all batches\n",
    "        n_batches = 5\n",
    "        for batch_i in range(1, n_batches + 1):\n",
    "            for batch_features, batch_labels in helper.load_preprocess_training_batch(batch_i, batch_size):\n",
    "                train_neural_network(sess, optimizer, keep_probability, batch_features, batch_labels)\n",
    "            print('Epoch {:>2}, CIFAR-10 Batch {}:  '.format(epoch + 1, batch_i), end='')\n",
    "            print_stats(sess, batch_features, batch_labels, cost, accuracy)\n",
    "            \n",
    "    # Save Model\n",
    "    saver = tf.train.Saver()\n",
    "    save_path = saver.save(sess, save_model_path)"
   ]
  },
  {
   "cell_type": "code",
   "execution_count": 20,
   "metadata": {},
   "outputs": [
    {
     "name": "stdout",
     "output_type": "stream",
     "text": [
      "Testing Accuracy: 0.6317246835443038\n",
      "\n"
     ]
    },
    {
     "data": {
      "image/png": "[encoded data removed]",
      "text/plain": [
       "<matplotlib.figure.Figure at 0x7f1d02ef25c0>"
      ]
     },
     "metadata": {
      "image/png": {
       "height": 319,
       "width": 355
      }
     },
     "output_type": "display_data"
    }
   ],
   "source": [
    "\"\"\"\n",
    "DON'T MODIFY ANYTHING IN THIS CELL\n",
    "\"\"\"\n",
    "%matplotlib inline\n",
    "%config InlineBackend.figure_format = 'retina'\n",
    "\n",
    "import tensorflow as tf\n",
    "import pickle\n",
    "import helper\n",
    "import random\n",
    "\n",
    "# Set batch size if not already set\n",
    "try:\n",
    "    if batch_size:\n",
    "        pass\n",
    "except NameError:\n",
    "    batch_size = 64\n",
    "\n",
    "save_model_path = './image_classification'\n",
    "n_samples = 4\n",
    "top_n_predictions = 3\n",
    "\n",
    "def test_model():\n",
    "    \"\"\"\n",
    "    Test the saved model against the test dataset\n",
    "    \"\"\"\n",
    "\n",
    "    test_features, test_labels = pickle.load(open('preprocess_test.p', mode='rb'))\n",
    "    loaded_graph = tf.Graph()\n",
    "\n",
    "    with tf.Session(graph=loaded_graph) as sess:\n",
    "        # Load model\n",
    "        loader = tf.train.import_meta_graph(save_model_path + '.meta')\n",
    "        loader.restore(sess, save_model_path)\n",
    "\n",
    "        # Get Tensors from loaded model\n",
    "        loaded_x = loaded_graph.get_tensor_by_name('x:0')\n",
    "        loaded_y = loaded_graph.get_tensor_by_name('y:0')\n",
    "        loaded_keep_prob = loaded_graph.get_tensor_by_name('keep_prob:0')\n",
    "        loaded_logits = loaded_graph.get_tensor_by_name('logits:0')\n",
    "        loaded_acc = loaded_graph.get_tensor_by_name('accuracy:0')\n",
    "        \n",
    "        # Get accuracy in batches for memory limitations\n",
    "        test_batch_acc_total = 0\n",
    "        test_batch_count = 0\n",
    "        \n",
    "        for test_feature_batch, test_label_batch in helper.batch_features_labels(test_features, test_labels, batch_size):\n",
    "            test_batch_acc_total += sess.run(\n",
    "                loaded_acc,\n",
    "                feed_dict={loaded_x: test_feature_batch, loaded_y: test_label_batch, loaded_keep_prob: 1.0})\n",
    "            test_batch_count += 1\n",
    "\n",
    "        print('Testing Accuracy: {}\\n'.format(test_batch_acc_total/test_batch_count))\n",
    "\n",
    "        # Print Random Samples\n",
    "        random_test_features, random_test_labels = tuple(zip(*random.sample(list(zip(test_features, test_labels)), n_samples)))\n",
    "        random_test_predictions = sess.run(\n",
    "            tf.nn.top_k(tf.nn.softmax(loaded_logits), top_n_predictions),\n",
    "            feed_dict={loaded_x: random_test_features, loaded_y: random_test_labels, loaded_keep_prob: 1.0})\n",
    "        helper.display_image_predictions(random_test_features, random_test_labels, random_test_predictions)\n",
    "\n",
    "\n",
    "test_model()"
   ]
  }
 ],
 "metadata": {
  "kernelspec": {
   "display_name": "Python 3",
   "language": "python",
   "name": "python3"
  },
  "language_info": {
   "codemirror_mode": {
    "name": "ipython",
    "version": 3
   },
   "file_extension": ".py",
   "mimetype": "text/x-python",
   "name": "python",
   "nbconvert_exporter": "python",
   "pygments_lexer": "ipython3",
   "version": "3.6.1"
  },
  "widgets": {
   "state": {},
   "version": "1.1.2"
  }
 },
 "nbformat": 4,
 "nbformat_minor": 1
}
