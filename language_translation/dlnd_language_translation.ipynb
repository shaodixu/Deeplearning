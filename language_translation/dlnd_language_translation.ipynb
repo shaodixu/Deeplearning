{
 "cells": [
  {
   "cell_type": "markdown",
   "metadata": {
    "collapsed": true
   },
   "source": [
    "# Language Translation\n"
   ]
  },
  {
   "cell_type": "code",
   "execution_count": 1,
   "metadata": {
    "collapsed": true
   },
   "outputs": [],
   "source": [
    "\"\"\"\n",
    "DON'T MODIFY ANYTHING IN THIS CELL\n",
    "\"\"\"\n",
    "import helper\n",
    "import problem_unittests as tests\n",
    "\n",
    "source_path = 'data/small_vocab_en'\n",
    "target_path = 'data/small_vocab_fr'\n",
    "source_text = helper.load_data(source_path)\n",
    "target_text = helper.load_data(target_path)"
   ]
  },
  {
   "cell_type": "code",
   "execution_count": 2,
   "metadata": {},
   "outputs": [
    {
     "name": "stdout",
     "output_type": "stream",
     "text": [
      "Dataset Stats\n",
      "Roughly the number of unique words: 227\n",
      "Number of sentences: 137861\n",
      "Average number of words in a sentence: 13.225277634719028\n",
      "\n",
      "English sentences 0 to 10:\n",
      "new jersey is sometimes quiet during autumn , and it is snowy in april .\n",
      "the united states is usually chilly during july , and it is usually freezing in november .\n",
      "california is usually quiet during march , and it is usually hot in june .\n",
      "the united states is sometimes mild during june , and it is cold in september .\n",
      "your least liked fruit is the grape , but my least liked is the apple .\n",
      "his favorite fruit is the orange , but my favorite is the grape .\n",
      "paris is relaxing during december , but it is usually chilly in july .\n",
      "new jersey is busy during spring , and it is never hot in march .\n",
      "our least liked fruit is the lemon , but my least liked is the grape .\n",
      "the united states is sometimes busy during january , and it is sometimes warm in november .\n",
      "\n",
      "French sentences 0 to 10:\n",
      "new jersey est parfois calme pendant l' automne , et il est neigeux en avril .\n",
      "les états-unis est généralement froid en juillet , et il gèle habituellement en novembre .\n",
      "california est généralement calme en mars , et il est généralement chaud en juin .\n",
      "les états-unis est parfois légère en juin , et il fait froid en septembre .\n",
      "votre moins aimé fruit est le raisin , mais mon moins aimé est la pomme .\n",
      "son fruit préféré est l'orange , mais mon préféré est le raisin .\n",
      "paris est relaxant en décembre , mais il est généralement froid en juillet .\n",
      "new jersey est occupé au printemps , et il est jamais chaude en mars .\n",
      "notre fruit est moins aimé le citron , mais mon moins aimé est le raisin .\n",
      "les états-unis est parfois occupé en janvier , et il est parfois chaud en novembre .\n"
     ]
    }
   ],
   "source": [
    "view_sentence_range = (0, 10)\n",
    "\n",
    "\"\"\"\n",
    "DON'T MODIFY ANYTHING IN THIS CELL\n",
    "\"\"\"\n",
    "import numpy as np\n",
    "\n",
    "print('Dataset Stats')\n",
    "print('Roughly the number of unique words: {}'.format(len({word: None for word in source_text.split()})))\n",
    "\n",
    "sentences = source_text.split('\\n')\n",
    "word_counts = [len(sentence.split()) for sentence in sentences]\n",
    "print('Number of sentences: {}'.format(len(sentences)))\n",
    "print('Average number of words in a sentence: {}'.format(np.average(word_counts)))\n",
    "\n",
    "print()\n",
    "print('English sentences {} to {}:'.format(*view_sentence_range))\n",
    "print('\\n'.join(source_text.split('\\n')[view_sentence_range[0]:view_sentence_range[1]]))\n",
    "print()\n",
    "print('French sentences {} to {}:'.format(*view_sentence_range))\n",
    "print('\\n'.join(target_text.split('\\n')[view_sentence_range[0]:view_sentence_range[1]]))"
   ]
  },
  {
   "cell_type": "code",
   "execution_count": 3,
   "metadata": {},
   "outputs": [
    {
     "name": "stdout",
     "output_type": "stream",
     "text": [
      "Tests Passed\n"
     ]
    }
   ],
   "source": [
    "def text_to_ids(source_text, target_text, source_vocab_to_int, target_vocab_to_int):\n",
    "    \"\"\"\n",
    "    Convert source and target text to proper word ids\n",
    "    :param source_text: String that contains all the source text.\n",
    "    :param target_text: String that contains all the target text.\n",
    "    :param source_vocab_to_int: Dictionary to go from the source words to an id\n",
    "    :param target_vocab_to_int: Dictionary to go from the target words to an id\n",
    "    :return: A tuple of lists (source_id_text, target_id_text)\n",
    "    \"\"\"\n",
    "    # TODO: Implement Function\n",
    "    source_id_text = [[source_vocab_to_int.get(word)  for word in line.split()] for line in source_text.split('\\n')]\n",
    "    target_id_text = [[target_vocab_to_int.get(word)  for word in line.split()]+[target_vocab_to_int['<EOS>']] for line in target_text.split('\\n')]\n",
    "   \n",
    "  \n",
    "    return (source_id_text, target_id_text)\n",
    "    \n",
    "\n",
    "\"\"\"\n",
    "DON'T MODIFY ANYTHING IN THIS CELL THAT IS BELOW THIS LINE\n",
    "\"\"\"\n",
    "tests.test_text_to_ids(text_to_ids)"
   ]
  },
  {
   "cell_type": "code",
   "execution_count": 4,
   "metadata": {
    "collapsed": true
   },
   "outputs": [],
   "source": [
    "\"\"\"\n",
    "DON'T MODIFY ANYTHING IN THIS CELL\n",
    "\"\"\"\n",
    "helper.preprocess_and_save_data(source_path, target_path, text_to_ids)"
   ]
  },
  {
   "cell_type": "code",
   "execution_count": 5,
   "metadata": {
    "collapsed": true
   },
   "outputs": [],
   "source": [
    "\"\"\"\n",
    "DON'T MODIFY ANYTHING IN THIS CELL\n",
    "\"\"\"\n",
    "import numpy as np\n",
    "import helper\n",
    "\n",
    "(source_int_text, target_int_text), (source_vocab_to_int, target_vocab_to_int), _ = helper.load_preprocess()"
   ]
  },
  {
   "cell_type": "code",
   "execution_count": 6,
   "metadata": {},
   "outputs": [
    {
     "name": "stdout",
     "output_type": "stream",
     "text": [
      "TensorFlow Version: 1.2.0\n"
     ]
    },
    {
     "name": "stderr",
     "output_type": "stream",
     "text": [
      "/home/shaodi/anaconda3/envs/tensorflow/lib/python3.6/site-packages/ipykernel_launcher.py:15: UserWarning: No GPU found. Please use a GPU to train your neural network.\n",
      "  from ipykernel import kernelapp as app\n"
     ]
    }
   ],
   "source": [
    "\"\"\"\n",
    "DON'T MODIFY ANYTHING IN THIS CELL\n",
    "\"\"\"\n",
    "from distutils.version import LooseVersion\n",
    "import warnings\n",
    "import tensorflow as tf\n",
    "from tensorflow.python.layers.core import Dense\n",
    "\n",
    "# Check TensorFlow Version\n",
    "assert LooseVersion(tf.__version__) >= LooseVersion('1.1'), 'Please use TensorFlow version 1.1 or newer'\n",
    "print('TensorFlow Version: {}'.format(tf.__version__))\n",
    "\n",
    "# Check for a GPU\n",
    "if not tf.test.gpu_device_name():\n",
    "    warnings.warn('No GPU found. Please use a GPU to train your neural network.')\n",
    "else:\n",
    "    print('Default GPU Device: {}'.format(tf.test.gpu_device_name()))"
   ]
  },
  {
   "cell_type": "code",
   "execution_count": 7,
   "metadata": {
    "scrolled": true
   },
   "outputs": [
    {
     "name": "stdout",
     "output_type": "stream",
     "text": [
      "ERROR:tensorflow:==================================\n",
      "Object was never used (type <class 'tensorflow.python.framework.ops.Operation'>):\n",
      "<tf.Operation 'assert_rank_2/Assert/Assert' type=Assert>\n",
      "If you want to mark it as used call its \"mark_used()\" method.\n",
      "It was originally created here:\n",
      "['File \"/home/shaodi/anaconda3/envs/tensorflow/lib/python3.6/runpy.py\", line 193, in _run_module_as_main\\n    \"__main__\", mod_spec)', 'File \"/home/shaodi/anaconda3/envs/tensorflow/lib/python3.6/runpy.py\", line 85, in _run_code\\n    exec(code, run_globals)', 'File \"/home/shaodi/anaconda3/envs/tensorflow/lib/python3.6/site-packages/ipykernel_launcher.py\", line 16, in <module>\\n    app.launch_new_instance()', 'File \"/home/shaodi/anaconda3/envs/tensorflow/lib/python3.6/site-packages/traitlets/config/application.py\", line 658, in launch_instance\\n    app.start()', 'File \"/home/shaodi/anaconda3/envs/tensorflow/lib/python3.6/site-packages/ipykernel/kernelapp.py\", line 477, in start\\n    ioloop.IOLoop.instance().start()', 'File \"/home/shaodi/anaconda3/envs/tensorflow/lib/python3.6/site-packages/zmq/eventloop/ioloop.py\", line 177, in start\\n    super(ZMQIOLoop, self).start()', 'File \"/home/shaodi/anaconda3/envs/tensorflow/lib/python3.6/site-packages/tornado/ioloop.py\", line 888, in start\\n    handler_func(fd_obj, events)', 'File \"/home/shaodi/anaconda3/envs/tensorflow/lib/python3.6/site-packages/tornado/stack_context.py\", line 277, in null_wrapper\\n    return fn(*args, **kwargs)', 'File \"/home/shaodi/anaconda3/envs/tensorflow/lib/python3.6/site-packages/zmq/eventloop/zmqstream.py\", line 440, in _handle_events\\n    self._handle_recv()', 'File \"/home/shaodi/anaconda3/envs/tensorflow/lib/python3.6/site-packages/zmq/eventloop/zmqstream.py\", line 472, in _handle_recv\\n    self._run_callback(callback, msg)', 'File \"/home/shaodi/anaconda3/envs/tensorflow/lib/python3.6/site-packages/zmq/eventloop/zmqstream.py\", line 414, in _run_callback\\n    callback(*args, **kwargs)', 'File \"/home/shaodi/anaconda3/envs/tensorflow/lib/python3.6/site-packages/tornado/stack_context.py\", line 277, in null_wrapper\\n    return fn(*args, **kwargs)', 'File \"/home/shaodi/anaconda3/envs/tensorflow/lib/python3.6/site-packages/ipykernel/kernelbase.py\", line 283, in dispatcher\\n    return self.dispatch_shell(stream, msg)', 'File \"/home/shaodi/anaconda3/envs/tensorflow/lib/python3.6/site-packages/ipykernel/kernelbase.py\", line 235, in dispatch_shell\\n    handler(stream, idents, msg)', 'File \"/home/shaodi/anaconda3/envs/tensorflow/lib/python3.6/site-packages/ipykernel/kernelbase.py\", line 399, in execute_request\\n    user_expressions, allow_stdin)', 'File \"/home/shaodi/anaconda3/envs/tensorflow/lib/python3.6/site-packages/ipykernel/ipkernel.py\", line 196, in do_execute\\n    res = shell.run_cell(code, store_history=store_history, silent=silent)', 'File \"/home/shaodi/anaconda3/envs/tensorflow/lib/python3.6/site-packages/ipykernel/zmqshell.py\", line 533, in run_cell\\n    return super(ZMQInteractiveShell, self).run_cell(*args, **kwargs)', 'File \"/home/shaodi/anaconda3/envs/tensorflow/lib/python3.6/site-packages/IPython/core/interactiveshell.py\", line 2698, in run_cell\\n    interactivity=interactivity, compiler=compiler, result=result)', 'File \"/home/shaodi/anaconda3/envs/tensorflow/lib/python3.6/site-packages/IPython/core/interactiveshell.py\", line 2808, in run_ast_nodes\\n    if self.run_code(code, result):', 'File \"/home/shaodi/anaconda3/envs/tensorflow/lib/python3.6/site-packages/IPython/core/interactiveshell.py\", line 2862, in run_code\\n    exec(code_obj, self.user_global_ns, self.user_ns)', 'File \"<ipython-input-7-d3b2b1838a8e>\", line 21, in <module>\\n    tests.test_model_inputs(model_inputs)', 'File \"/home/shaodi/Desktop/AI/udacity/deep-learning-master/language-translation/problem_unittests.py\", line 106, in test_model_inputs\\n    assert tf.assert_rank(lr, 0, message=\\'Learning Rate has wrong rank\\')', 'File \"/home/shaodi/anaconda3/envs/tensorflow/lib/python3.6/site-packages/tensorflow/python/ops/check_ops.py\", line 617, in assert_rank\\n    dynamic_condition, data, summarize)', 'File \"/home/shaodi/anaconda3/envs/tensorflow/lib/python3.6/site-packages/tensorflow/python/ops/check_ops.py\", line 571, in _assert_rank_condition\\n    return control_flow_ops.Assert(condition, data, summarize=summarize)', 'File \"/home/shaodi/anaconda3/envs/tensorflow/lib/python3.6/site-packages/tensorflow/python/util/tf_should_use.py\", line 170, in wrapped\\n    return _add_should_use_warning(fn(*args, **kwargs))', 'File \"/home/shaodi/anaconda3/envs/tensorflow/lib/python3.6/site-packages/tensorflow/python/util/tf_should_use.py\", line 139, in _add_should_use_warning\\n    wrapped = TFShouldUseWarningWrapper(x)', 'File \"/home/shaodi/anaconda3/envs/tensorflow/lib/python3.6/site-packages/tensorflow/python/util/tf_should_use.py\", line 96, in __init__\\n    stack = [s.strip() for s in traceback.format_stack()]']\n",
      "==================================\n",
      "ERROR:tensorflow:==================================\n",
      "Object was never used (type <class 'tensorflow.python.framework.ops.Operation'>):\n",
      "<tf.Operation 'assert_rank_3/Assert/Assert' type=Assert>\n",
      "If you want to mark it as used call its \"mark_used()\" method.\n",
      "It was originally created here:\n",
      "['File \"/home/shaodi/anaconda3/envs/tensorflow/lib/python3.6/runpy.py\", line 193, in _run_module_as_main\\n    \"__main__\", mod_spec)', 'File \"/home/shaodi/anaconda3/envs/tensorflow/lib/python3.6/runpy.py\", line 85, in _run_code\\n    exec(code, run_globals)', 'File \"/home/shaodi/anaconda3/envs/tensorflow/lib/python3.6/site-packages/ipykernel_launcher.py\", line 16, in <module>\\n    app.launch_new_instance()', 'File \"/home/shaodi/anaconda3/envs/tensorflow/lib/python3.6/site-packages/traitlets/config/application.py\", line 658, in launch_instance\\n    app.start()', 'File \"/home/shaodi/anaconda3/envs/tensorflow/lib/python3.6/site-packages/ipykernel/kernelapp.py\", line 477, in start\\n    ioloop.IOLoop.instance().start()', 'File \"/home/shaodi/anaconda3/envs/tensorflow/lib/python3.6/site-packages/zmq/eventloop/ioloop.py\", line 177, in start\\n    super(ZMQIOLoop, self).start()', 'File \"/home/shaodi/anaconda3/envs/tensorflow/lib/python3.6/site-packages/tornado/ioloop.py\", line 888, in start\\n    handler_func(fd_obj, events)', 'File \"/home/shaodi/anaconda3/envs/tensorflow/lib/python3.6/site-packages/tornado/stack_context.py\", line 277, in null_wrapper\\n    return fn(*args, **kwargs)', 'File \"/home/shaodi/anaconda3/envs/tensorflow/lib/python3.6/site-packages/zmq/eventloop/zmqstream.py\", line 440, in _handle_events\\n    self._handle_recv()', 'File \"/home/shaodi/anaconda3/envs/tensorflow/lib/python3.6/site-packages/zmq/eventloop/zmqstream.py\", line 472, in _handle_recv\\n    self._run_callback(callback, msg)', 'File \"/home/shaodi/anaconda3/envs/tensorflow/lib/python3.6/site-packages/zmq/eventloop/zmqstream.py\", line 414, in _run_callback\\n    callback(*args, **kwargs)', 'File \"/home/shaodi/anaconda3/envs/tensorflow/lib/python3.6/site-packages/tornado/stack_context.py\", line 277, in null_wrapper\\n    return fn(*args, **kwargs)', 'File \"/home/shaodi/anaconda3/envs/tensorflow/lib/python3.6/site-packages/ipykernel/kernelbase.py\", line 283, in dispatcher\\n    return self.dispatch_shell(stream, msg)', 'File \"/home/shaodi/anaconda3/envs/tensorflow/lib/python3.6/site-packages/ipykernel/kernelbase.py\", line 235, in dispatch_shell\\n    handler(stream, idents, msg)', 'File \"/home/shaodi/anaconda3/envs/tensorflow/lib/python3.6/site-packages/ipykernel/kernelbase.py\", line 399, in execute_request\\n    user_expressions, allow_stdin)', 'File \"/home/shaodi/anaconda3/envs/tensorflow/lib/python3.6/site-packages/ipykernel/ipkernel.py\", line 196, in do_execute\\n    res = shell.run_cell(code, store_history=store_history, silent=silent)', 'File \"/home/shaodi/anaconda3/envs/tensorflow/lib/python3.6/site-packages/ipykernel/zmqshell.py\", line 533, in run_cell\\n    return super(ZMQInteractiveShell, self).run_cell(*args, **kwargs)', 'File \"/home/shaodi/anaconda3/envs/tensorflow/lib/python3.6/site-packages/IPython/core/interactiveshell.py\", line 2698, in run_cell\\n    interactivity=interactivity, compiler=compiler, result=result)', 'File \"/home/shaodi/anaconda3/envs/tensorflow/lib/python3.6/site-packages/IPython/core/interactiveshell.py\", line 2808, in run_ast_nodes\\n    if self.run_code(code, result):', 'File \"/home/shaodi/anaconda3/envs/tensorflow/lib/python3.6/site-packages/IPython/core/interactiveshell.py\", line 2862, in run_code\\n    exec(code_obj, self.user_global_ns, self.user_ns)', 'File \"<ipython-input-7-d3b2b1838a8e>\", line 21, in <module>\\n    tests.test_model_inputs(model_inputs)', 'File \"/home/shaodi/Desktop/AI/udacity/deep-learning-master/language-translation/problem_unittests.py\", line 107, in test_model_inputs\\n    assert tf.assert_rank(keep_prob, 0, message=\\'Keep Probability has wrong rank\\')', 'File \"/home/shaodi/anaconda3/envs/tensorflow/lib/python3.6/site-packages/tensorflow/python/ops/check_ops.py\", line 617, in assert_rank\\n    dynamic_condition, data, summarize)', 'File \"/home/shaodi/anaconda3/envs/tensorflow/lib/python3.6/site-packages/tensorflow/python/ops/check_ops.py\", line 571, in _assert_rank_condition\\n    return control_flow_ops.Assert(condition, data, summarize=summarize)', 'File \"/home/shaodi/anaconda3/envs/tensorflow/lib/python3.6/site-packages/tensorflow/python/util/tf_should_use.py\", line 170, in wrapped\\n    return _add_should_use_warning(fn(*args, **kwargs))', 'File \"/home/shaodi/anaconda3/envs/tensorflow/lib/python3.6/site-packages/tensorflow/python/util/tf_should_use.py\", line 139, in _add_should_use_warning\\n    wrapped = TFShouldUseWarningWrapper(x)', 'File \"/home/shaodi/anaconda3/envs/tensorflow/lib/python3.6/site-packages/tensorflow/python/util/tf_should_use.py\", line 96, in __init__\\n    stack = [s.strip() for s in traceback.format_stack()]']\n",
      "==================================\n"
     ]
    },
    {
     "name": "stdout",
     "output_type": "stream",
     "text": [
      "Tests Passed\n"
     ]
    }
   ],
   "source": [
    "def model_inputs():\n",
    "    \"\"\"\n",
    "    Create TF Placeholders for input, targets, learning rate, and lengths of source and target sequences.\n",
    "    :return: Tuple (input, targets, learning rate, keep probability, target sequence length,\n",
    "    max target sequence length, source sequence length)\n",
    "    \"\"\"\n",
    "    # TODO: Implement Function\n",
    "    input = tf.placeholder(tf.int32, [None, None], name='input')\n",
    "    targets = tf.placeholder(tf.int32, [None, None], name = 'targets')\n",
    "    lr = tf.placeholder(tf.float32)\n",
    "    keep_prob = tf.placeholder(tf.float32, name = 'keep_prob')\n",
    "    target_seq_length = tf.placeholder(tf.int32,[None], name = 'target_sequence_length')\n",
    "    max_target_len = tf.reduce_max(target_seq_length,name = 'max_target_len')\n",
    "    source_sequence_length = tf.placeholder(tf.int32, [None], name = 'source_sequence_length')\n",
    "    return (input, targets, lr, keep_prob, target_seq_length, max_target_len, source_sequence_length)\n",
    "\n",
    "\n",
    "\"\"\"\n",
    "DON'T MODIFY ANYTHING IN THIS CELL THAT IS BELOW THIS LINE\n",
    "\"\"\"\n",
    "tests.test_model_inputs(model_inputs)"
   ]
  },
  {
   "cell_type": "code",
   "execution_count": 8,
   "metadata": {},
   "outputs": [
    {
     "name": "stdout",
     "output_type": "stream",
     "text": [
      "Tests Passed\n"
     ]
    }
   ],
   "source": [
    "def process_decoder_input(target_data, target_vocab_to_int, batch_size):\n",
    "    \"\"\"\n",
    "    Preprocess target data for encoding\n",
    "    :param target_data: Target Placehoder\n",
    "    :param target_vocab_to_int: Dictionary to go from the target words to an id\n",
    "    :param batch_size: Batch Size\n",
    "    :return: Preprocessed target data\n",
    "    \"\"\"\n",
    "    # TODO: Implement Function\n",
    "    ending = tf.strided_slice(target_data, [0,0], [batch_size,-1], [1,1])\n",
    "    preprocessed_target_data = tf.concat([tf.fill([batch_size, 1], target_vocab_to_int['<GO>']),ending],1)\n",
    "    return preprocessed_target_data\n",
    "\n",
    "\"\"\"\n",
    "DON'T MODIFY ANYTHING IN THIS CELL THAT IS BELOW THIS LINE\n",
    "\"\"\"\n",
    "tests.test_process_encoding_input(process_decoder_input)"
   ]
  },
  {
   "cell_type": "code",
   "execution_count": 9,
   "metadata": {
    "scrolled": false
   },
   "outputs": [
    {
     "name": "stdout",
     "output_type": "stream",
     "text": [
      "Tests Passed\n"
     ]
    }
   ],
   "source": [
    "from imp import reload\n",
    "reload(tests)\n",
    "\n",
    "def encoding_layer(rnn_inputs, rnn_size, num_layers, keep_prob, \n",
    "                   source_sequence_length, source_vocab_size, \n",
    "                   encoding_embedding_size):\n",
    "    \"\"\"\n",
    "    Create encoding layer\n",
    "    :param rnn_inputs: Inputs for the RNN\n",
    "    :param rnn_size: RNN Size\n",
    "    :param num_layers: Number of layers\n",
    "    :param keep_prob: Dropout keep probability\n",
    "    :param source_sequence_length: a list of the lengths of each sequence in the batch\n",
    "    :param source_vocab_size: vocabulary size of source data\n",
    "    :param encoding_embedding_size: embedding size of source data\n",
    "    :return: tuple (RNN output, RNN state)preprocessed_target_data\n",
    "    \"\"\"\n",
    "    # TODO: Implement Function\n",
    "    embed = tf.contrib.layers.embed_sequence(rnn_inputs, source_vocab_size, encoding_embedding_size)\n",
    "     \n",
    "    def make_cell(rnn_size):\n",
    "        enc_cell = tf.contrib.rnn.LSTMCell(rnn_size,\n",
    "                                           initializer=tf.random_uniform_initializer(-0.1, 0.1, seed=2))\n",
    "        return enc_cell\n",
    "\n",
    "    enc_cell = tf.contrib.rnn.MultiRNNCell([make_cell(rnn_size) for _ in range(num_layers)])\n",
    "    dropout = tf.contrib.rnn.DropoutWrapper(enc_cell, keep_prob)\n",
    "    \n",
    "    RNN_output, RNN_state = tf.nn.dynamic_rnn(dropout, embed, sequence_length=source_sequence_length, dtype=tf.float32)\n",
    "    \n",
    "    return (RNN_output, RNN_state)\n",
    "\n",
    "\"\"\"\n",
    "DON'T MODIFY ANYTHING IN THIS CELL THAT IS BELOW THIS LINE\n",
    "\"\"\"\n",
    "tests.test_encoding_layer(encoding_layer)"
   ]
  },
  {
   "cell_type": "code",
   "execution_count": 10,
   "metadata": {},
   "outputs": [
    {
     "name": "stdout",
     "output_type": "stream",
     "text": [
      "Tests Passed\n"
     ]
    }
   ],
   "source": [
    "\n",
    "def decoding_layer_train(encoder_state, dec_cell, dec_embed_input, \n",
    "                         target_sequence_length, max_summary_length, \n",
    "                         output_layer, keep_prob):\n",
    "    \"\"\"\n",
    "    Create a decoding layer for training\n",
    "    :param encoder_state: Encoder State\n",
    "    :param dec_cell: Decoder RNN Cell\n",
    "    :param dec_embed_input: Decoder embedded input\n",
    "    :param target_sequence_length: The lengths of each sequence in the target batch\n",
    "    :param max_summary_length: The length of the longest sequence in the batch\n",
    "    :param output_layer: Function to apply the output layer\n",
    "    :param keep_prob: Dropout keep probability\n",
    "    :return: BasicDecoderOutput containing training logits and sample_id\n",
    "    \"\"\"\n",
    "    # TODO: Implement Function\n",
    "    \n",
    "    training_helper = tf.contrib.seq2seq.TrainingHelper(inputs=dec_embed_input,\n",
    "                                                        sequence_length = target_sequence_length,\n",
    "                                                        time_major=False)\n",
    "                                                      \n",
    "    training_decoder = tf.contrib.seq2seq.BasicDecoder(dec_cell,training_helper,encoder_state, output_layer)\n",
    "    training_decoder_output, _,_ = tf.contrib.seq2seq.dynamic_decode(training_decoder, impute_finished=True, maximum_iterations=max_summary_length)\n",
    "    \n",
    "    return training_decoder_output\n",
    "\n",
    "\n",
    "\n",
    "\"\"\"\n",
    "DON'T MODIFY ANYTHING IN THIS CELL THAT IS BELOW THIS LINE\n",
    "\"\"\"\n",
    "tests.test_decoding_layer_train(decoding_layer_train)"
   ]
  },
  {
   "cell_type": "code",
   "execution_count": 11,
   "metadata": {
    "scrolled": true
   },
   "outputs": [
    {
     "name": "stdout",
     "output_type": "stream",
     "text": [
      "Tests Passed\n"
     ]
    }
   ],
   "source": [
    "def decoding_layer_infer(encoder_state, dec_cell, dec_embeddings, start_of_sequence_id,\n",
    "                         end_of_sequence_id, max_target_sequence_length,\n",
    "                         vocab_size, output_layer, batch_size, keep_prob):\n",
    "    \"\"\"\n",
    "    Create a decoding layer for inference\n",
    "    :param encoder_state: Encoder state\n",
    "    :param dec_cell: Decoder RNN Cell\n",
    "    :param dec_embeddings: Decoder embeddings\n",
    "    :param start_of_sequence_id: GO ID\n",
    "    :param end_of_sequence_id: EOS Id\n",
    "    :param max_target_sequence_length: Maximum length of target sequences\n",
    "    :param vocab_size: Size of decoder/target vocabulary\n",
    "    :param decoding_scope: TenorFlow Variable Scope for decoding\n",
    "    :param output_layer: Function to apply the output layer\n",
    "    :param batch_size: Batch size\n",
    "    :param keep_prob: Dropout keep probability\n",
    "    :return: BasicDecoderOutput containing inference logits and sample_id\n",
    "    \"\"\"\n",
    "    # TODO: Implement Function\n",
    "    start_tokens = tf.tile(tf.constant([start_of_sequence_id],dtype=tf.int32),[batch_size],name='start_tokens')\n",
    "    inference_helper = tf.contrib.seq2seq.GreedyEmbeddingHelper(dec_embeddings, start_tokens, end_of_sequence_id)\n",
    "    inference_decoder = tf.contrib.seq2seq.BasicDecoder(dec_cell, inference_helper, encoder_state, output_layer)\n",
    "    inference_decoder_output, _,_ = tf.contrib.seq2seq.dynamic_decode(inference_decoder, \n",
    "                                                                   impute_finished = True,\n",
    "                                                                   maximum_iterations=max_target_sequence_length)\n",
    "    return inference_decoder_output\n",
    "\n",
    "\n",
    "\n",
    "\"\"\"\n",
    "DON'T MODIFY ANYTHING IN THIS CELL THAT IS BELOW THIS LINE\n",
    "\"\"\"\n",
    "tests.test_decoding_layer_infer(decoding_layer_infer)"
   ]
  },
  {
   "cell_type": "code",
   "execution_count": 12,
   "metadata": {},
   "outputs": [
    {
     "name": "stdout",
     "output_type": "stream",
     "text": [
      "Tests Passed\n"
     ]
    }
   ],
   "source": [
    "def decoding_layer(dec_input, encoder_state,\n",
    "                   target_sequence_length, max_target_sequence_length,\n",
    "                   rnn_size,\n",
    "                   num_layers, target_vocab_to_int, target_vocab_size,\n",
    "                   batch_size, keep_prob, decoding_embedding_size):\n",
    "    \"\"\"\n",
    "    Create decoding layer\n",
    "    :param dec_input: Decoder input\n",
    "    :param encoder_state: Encoder state\n",
    "    :param target_sequence_length: The lengths of each sequence in the target batch\n",
    "    :param max_target_sequence_length: Maximum length of target sequences\n",
    "    :param rnn_size: RNN Size\n",
    "    :param num_layers: Number of layers\n",
    "    :param target_vocab_to_int: Dictionary to go from the target words to an id\n",
    "    :param target_vocab_size: Size of target vocabulary\n",
    "    :param batch_size: The size of the batch\n",
    "    :param keep_prob: Dropout keep probability\n",
    "    :return: Tuple of (Training BasicDecoderOutput, Inference BasicDecoderOutput)\n",
    "    \"\"\"\n",
    "    # TODO: Implement Function\n",
    "    \n",
    "    #dec_embed_input = tf.contrib.layers.embed_sequence(dec_input, target_vocab_size, decoding_embedding_size)\n",
    "    dec_embeddings = tf.Variable(tf.random_uniform([target_vocab_size, decoding_embedding_size]))\n",
    "    dec_embed_input = tf.nn.embedding_lookup(dec_embeddings, dec_input)\n",
    "    \n",
    "    \n",
    "    def make_cell(rnn_size):\n",
    "        dec_cell = tf.contrib.rnn.LSTMCell(rnn_size,\n",
    "                                           initializer=tf.random_uniform_initializer(-0.1, 0.1, seed=2))\n",
    "        return dec_cell\n",
    "\n",
    "    dec_cell = tf.contrib.rnn.MultiRNNCell([make_cell(rnn_size) for _ in range(num_layers)])\n",
    "    \n",
    "    \n",
    "    \n",
    "    output_layer = Dense(target_vocab_size,\n",
    "                         kernel_initializer = tf.truncated_normal_initializer(mean = 0.0, stddev=0.1))\n",
    "    \n",
    "    \n",
    "    with tf.variable_scope('decoding'):\n",
    "        training_decoder_output =  decoding_layer_train(encoder_state, dec_cell, dec_embed_input, target_sequence_length, max_target_sequence_length, output_layer, keep_prob)\n",
    "       \n",
    "        \n",
    "    \n",
    "    \n",
    "    \n",
    "        inference_decoder_output = decoding_layer_infer(encoder_state, dec_cell, dec_embeddings, target_vocab_to_int['<GO>'],\n",
    "                                                        target_vocab_to_int['<EOS>'], max_target_sequence_length, target_vocab_size, output_layer, batch_size, keep_prob)\n",
    "    \n",
    "       \n",
    "    \n",
    "    \n",
    "    return (training_decoder_output, inference_decoder_output)\n",
    "\n",
    "\n",
    "\n",
    "\"\"\"\n",
    "DON'T MODIFY ANYTHING IN THIS CELL THAT IS BELOW THIS LINE\n",
    "\"\"\"\n",
    "tests.test_decoding_layer(decoding_layer)"
   ]
  },
  {
   "cell_type": "code",
   "execution_count": 13,
   "metadata": {},
   "outputs": [
    {
     "name": "stdout",
     "output_type": "stream",
     "text": [
      "Tests Passed\n"
     ]
    }
   ],
   "source": [
    "def seq2seq_model(input_data, target_data, keep_prob, batch_size,\n",
    "                  source_sequence_length, target_sequence_length,\n",
    "                  max_target_sentence_length,\n",
    "                  source_vocab_size, target_vocab_size,\n",
    "                  enc_embedding_size, dec_embedding_size,\n",
    "                  rnn_size, num_layers, target_vocab_to_int):\n",
    "    \"\"\"\n",
    "    Build the Sequence-to-Sequence part of the neural network\n",
    "    :param input_data: Input placeholder\n",
    "    :param target_data: Target placeholder\n",
    "    :param keep_prob: Dropout keep probability placeholder\n",
    "    :param batch_size: Batch Size\n",
    "    :param source_sequence_length: Sequence Lengths of source sequences in the batch\n",
    "    :param target_sequence_length: Sequence Lengths of target sequences in the batch\n",
    "    :param source_vocab_size: Source vocabulary size\n",
    "    :param target_vocab_size: Target vocabulary size\n",
    "    :param enc_embedding_size: Decoder embedding size\n",
    "    :param dec_embedding_size: Encoder embedding size\n",
    "    :param rnn_size: RNN Size\n",
    "    :param num_layers: Number of layers\n",
    "    :param target_vocab_to_int: Dictionary to go from the target words to an id\n",
    "    :return: Tuple of (Training BasicDecoderOutput, Inference BasicDecoderOutput)\n",
    "    \"\"\"\n",
    "    # TODO: Implement Function\n",
    "    \n",
    "    \n",
    "    \n",
    "    \n",
    "    encoder_output, encoder_state=encoding_layer(input_data, rnn_size, num_layers, keep_prob, \n",
    "                   source_sequence_length, source_vocab_size, \n",
    "                   enc_embedding_size)\n",
    "    \n",
    "    \n",
    "    preprocessed_target_data = process_decoder_input(target_data, target_vocab_to_int, batch_size)\n",
    "    \n",
    "    \n",
    "    \n",
    "    \n",
    "    \n",
    "    training_decoder_output, inference_decoder_output = decoding_layer( preprocessed_target_data, encoder_state,\n",
    "                   target_sequence_length, max_target_sentence_length,\n",
    "                   rnn_size,\n",
    "                   num_layers, target_vocab_to_int, target_vocab_size,\n",
    "                   batch_size, keep_prob, dec_embedding_size)\n",
    "    \n",
    "    \n",
    "    return  (training_decoder_output, inference_decoder_output)\n",
    "\n",
    "\n",
    "\"\"\"\n",
    "DON'T MODIFY ANYTHING IN THIS CELL THAT IS BELOW THIS LINE\n",
    "\"\"\"\n",
    "tests.test_seq2seq_model(seq2seq_model)"
   ]
  },
  {
   "cell_type": "code",
   "execution_count": 14,
   "metadata": {
    "collapsed": true
   },
   "outputs": [],
   "source": [
    "# Number of Epochs\n",
    "epochs = 20\n",
    "# Batch Size\n",
    "batch_size = 215\n",
    "# RNN Size\n",
    "rnn_size = 125\n",
    "# Number of Layers\n",
    "num_layers = 2\n",
    "# Embedding Size\n",
    "encoding_embedding_size = 125\n",
    "decoding_embedding_size = 125\n",
    "# Learning Rate\n",
    "learning_rate = 0.01\n",
    "# Dropout Keep Probability\n",
    "keep_probability = 0.8\n",
    "display_step = 100"
   ]
  },
  {
   "cell_type": "code",
   "execution_count": 15,
   "metadata": {
    "collapsed": true
   },
   "outputs": [],
   "source": [
    "\"\"\"\n",
    "DON'T MODIFY ANYTHING IN THIS CELL\n",
    "\"\"\"\n",
    "save_path = 'checkpoints/dev'\n",
    "(source_int_text, target_int_text), (source_vocab_to_int, target_vocab_to_int), _ = helper.load_preprocess()\n",
    "max_target_sentence_length = max([len(sentence) for sentence in source_int_text])\n",
    "\n",
    "train_graph = tf.Graph()\n",
    "with train_graph.as_default():\n",
    "    input_data, targets, lr, keep_prob, target_sequence_length, max_target_sequence_length, source_sequence_length = model_inputs()\n",
    "\n",
    "    #sequence_length = tf.placeholder_with_default(max_target_sentence_length, None, name='sequence_length')\n",
    "    input_shape = tf.shape(input_data)\n",
    "\n",
    "    train_logits, inference_logits = seq2seq_model(tf.reverse(input_data, [-1]),\n",
    "                                                   targets,\n",
    "                                                   keep_prob,\n",
    "                                                   batch_size,\n",
    "                                                   source_sequence_length,\n",
    "                                                   target_sequence_length,\n",
    "                                                   max_target_sequence_length,\n",
    "                                                   len(source_vocab_to_int),\n",
    "                                                   len(target_vocab_to_int),\n",
    "                                                   encoding_embedding_size,\n",
    "                                                   decoding_embedding_size,\n",
    "                                                   rnn_size,\n",
    "                                                   num_layers,\n",
    "                                                   target_vocab_to_int)\n",
    "\n",
    "\n",
    "    training_logits = tf.identity(train_logits.rnn_output, name='logits')\n",
    "    inference_logits = tf.identity(inference_logits.sample_id, name='predictions')\n",
    "\n",
    "    masks = tf.sequence_mask(target_sequence_length, max_target_sequence_length, dtype=tf.float32, name='masks')\n",
    "\n",
    "    with tf.name_scope(\"optimization\"):\n",
    "        # Loss function\n",
    "        cost = tf.contrib.seq2seq.sequence_loss(\n",
    "            training_logits,\n",
    "            targets,\n",
    "            masks)\n",
    "\n",
    "        # Optimizer\n",
    "        optimizer = tf.train.AdamOptimizer(lr)\n",
    "\n",
    "        # Gradient Clipping\n",
    "        gradients = optimizer.compute_gradients(cost)\n",
    "        capped_gradients = [(tf.clip_by_value(grad, -1., 1.), var) for grad, var in gradients if grad is not None]\n",
    "        train_op = optimizer.apply_gradients(capped_gradients)\n"
   ]
  },
  {
   "cell_type": "code",
   "execution_count": 16,
   "metadata": {
    "collapsed": true
   },
   "outputs": [],
   "source": [
    "\"\"\"\n",
    "DON'T MODIFY ANYTHING IN THIS CELL\n",
    "\"\"\"\n",
    "def pad_sentence_batch(sentence_batch, pad_int):\n",
    "    \"\"\"Pad sentences with <PAD> so that each sentence of a batch has the same length\"\"\"\n",
    "    max_sentence = max([len(sentence) for sentence in sentence_batch])\n",
    "    return [sentence + [pad_int] * (max_sentence - len(sentence)) for sentence in sentence_batch]\n",
    "\n",
    "\n",
    "def get_batches(sources, targets, batch_size, source_pad_int, target_pad_int):\n",
    "    \"\"\"Batch targets, sources, and the lengths of their sentences together\"\"\"\n",
    "    for batch_i in range(0, len(sources)//batch_size):\n",
    "        start_i = batch_i * batch_size\n",
    "\n",
    "        # Slice the right amount for the batch\n",
    "        sources_batch = sources[start_i:start_i + batch_size]\n",
    "        targets_batch = targets[start_i:start_i + batch_size]\n",
    "\n",
    "        # Pad\n",
    "        pad_sources_batch = np.array(pad_sentence_batch(sources_batch, source_pad_int))\n",
    "        pad_targets_batch = np.array(pad_sentence_batch(targets_batch, target_pad_int))\n",
    "\n",
    "        # Need the lengths for the _lengths parameters\n",
    "        pad_targets_lengths = []\n",
    "        for target in pad_targets_batch:\n",
    "            pad_targets_lengths.append(len(target))\n",
    "\n",
    "        pad_source_lengths = []\n",
    "        for source in pad_sources_batch:\n",
    "            pad_source_lengths.append(len(source))\n",
    "\n",
    "        yield pad_sources_batch, pad_targets_batch, pad_source_lengths, pad_targets_lengths\n"
   ]
  },
  {
   "cell_type": "code",
   "execution_count": 17,
   "metadata": {
    "scrolled": true
   },
   "outputs": [
    {
     "name": "stdout",
     "output_type": "stream",
     "text": [
      "Epoch   0 Batch  100/641 - Train Accuracy: 0.4941, Validation Accuracy: 0.5171, Loss: 0.9948\n",
      "Epoch   0 Batch  200/641 - Train Accuracy: 0.6149, Validation Accuracy: 0.6378, Loss: 0.6180\n",
      "Epoch   0 Batch  300/641 - Train Accuracy: 0.7353, Validation Accuracy: 0.6928, Loss: 0.3631\n",
      "Epoch   0 Batch  400/641 - Train Accuracy: 0.8144, Validation Accuracy: 0.7753, Loss: 0.2084\n",
      "Epoch   0 Batch  500/641 - Train Accuracy: 0.8984, Validation Accuracy: 0.8588, Loss: 0.1335\n",
      "Epoch   0 Batch  600/641 - Train Accuracy: 0.9300, Validation Accuracy: 0.9030, Loss: 0.0883\n",
      "Epoch   1 Batch  100/641 - Train Accuracy: 0.9238, Validation Accuracy: 0.9032, Loss: 0.0704\n",
      "Epoch   1 Batch  200/641 - Train Accuracy: 0.9335, Validation Accuracy: 0.9211, Loss: 0.0558\n",
      "Epoch   1 Batch  300/641 - Train Accuracy: 0.9435, Validation Accuracy: 0.9302, Loss: 0.0390\n",
      "Epoch   1 Batch  400/641 - Train Accuracy: 0.9433, Validation Accuracy: 0.9285, Loss: 0.0443\n",
      "Epoch   1 Batch  500/641 - Train Accuracy: 0.9530, Validation Accuracy: 0.9467, Loss: 0.0396\n",
      "Epoch   1 Batch  600/641 - Train Accuracy: 0.9581, Validation Accuracy: 0.9389, Loss: 0.0329\n",
      "Epoch   2 Batch  100/641 - Train Accuracy: 0.9537, Validation Accuracy: 0.9342, Loss: 0.0342\n",
      "Epoch   2 Batch  200/641 - Train Accuracy: 0.9505, Validation Accuracy: 0.9412, Loss: 0.0343\n",
      "Epoch   2 Batch  300/641 - Train Accuracy: 0.9703, Validation Accuracy: 0.9471, Loss: 0.0220\n",
      "Epoch   2 Batch  400/641 - Train Accuracy: 0.9674, Validation Accuracy: 0.9440, Loss: 0.0223\n",
      "Epoch   2 Batch  500/641 - Train Accuracy: 0.9609, Validation Accuracy: 0.9499, Loss: 0.0268\n",
      "Epoch   2 Batch  600/641 - Train Accuracy: 0.9763, Validation Accuracy: 0.9419, Loss: 0.0277\n",
      "Epoch   3 Batch  100/641 - Train Accuracy: 0.9561, Validation Accuracy: 0.9505, Loss: 0.0258\n",
      "Epoch   3 Batch  200/641 - Train Accuracy: 0.9581, Validation Accuracy: 0.9476, Loss: 0.0281\n",
      "Epoch   3 Batch  300/641 - Train Accuracy: 0.9756, Validation Accuracy: 0.9474, Loss: 0.0160\n",
      "Epoch   3 Batch  400/641 - Train Accuracy: 0.9699, Validation Accuracy: 0.9562, Loss: 0.0194\n",
      "Epoch   3 Batch  500/641 - Train Accuracy: 0.9598, Validation Accuracy: 0.9455, Loss: 0.0291\n",
      "Epoch   3 Batch  600/641 - Train Accuracy: 0.9700, Validation Accuracy: 0.9510, Loss: 0.0241\n",
      "Epoch   4 Batch  100/641 - Train Accuracy: 0.9511, Validation Accuracy: 0.9457, Loss: 0.0260\n",
      "Epoch   4 Batch  200/641 - Train Accuracy: 0.9723, Validation Accuracy: 0.9581, Loss: 0.0235\n",
      "Epoch   4 Batch  300/641 - Train Accuracy: 0.9810, Validation Accuracy: 0.9556, Loss: 0.0142\n",
      "Epoch   4 Batch  400/641 - Train Accuracy: 0.9661, Validation Accuracy: 0.9507, Loss: 0.0200\n",
      "Epoch   4 Batch  500/641 - Train Accuracy: 0.9626, Validation Accuracy: 0.9545, Loss: 0.0256\n",
      "Epoch   4 Batch  600/641 - Train Accuracy: 0.9633, Validation Accuracy: 0.9474, Loss: 0.0261\n",
      "Epoch   5 Batch  100/641 - Train Accuracy: 0.9805, Validation Accuracy: 0.9626, Loss: 0.0249\n",
      "Epoch   5 Batch  200/641 - Train Accuracy: 0.9653, Validation Accuracy: 0.9598, Loss: 0.0318\n",
      "Epoch   5 Batch  300/641 - Train Accuracy: 0.9880, Validation Accuracy: 0.9490, Loss: 0.0120\n",
      "Epoch   5 Batch  400/641 - Train Accuracy: 0.9739, Validation Accuracy: 0.9524, Loss: 0.0153\n",
      "Epoch   5 Batch  500/641 - Train Accuracy: 0.9626, Validation Accuracy: 0.9469, Loss: 0.0231\n",
      "Epoch   5 Batch  600/641 - Train Accuracy: 0.9828, Validation Accuracy: 0.9596, Loss: 0.0187\n",
      "Epoch   6 Batch  100/641 - Train Accuracy: 0.9703, Validation Accuracy: 0.9689, Loss: 0.0201\n",
      "Epoch   6 Batch  200/641 - Train Accuracy: 0.9767, Validation Accuracy: 0.9668, Loss: 0.0224\n",
      "Epoch   6 Batch  300/641 - Train Accuracy: 0.9847, Validation Accuracy: 0.9643, Loss: 0.0120\n",
      "Epoch   6 Batch  400/641 - Train Accuracy: 0.9774, Validation Accuracy: 0.9579, Loss: 0.0156\n",
      "Epoch   6 Batch  500/641 - Train Accuracy: 0.9677, Validation Accuracy: 0.9681, Loss: 0.0250\n",
      "Epoch   6 Batch  600/641 - Train Accuracy: 0.9758, Validation Accuracy: 0.9516, Loss: 0.0233\n",
      "Epoch   7 Batch  100/641 - Train Accuracy: 0.9637, Validation Accuracy: 0.9603, Loss: 0.0183\n",
      "Epoch   7 Batch  200/641 - Train Accuracy: 0.9649, Validation Accuracy: 0.9552, Loss: 0.0229\n",
      "Epoch   7 Batch  300/641 - Train Accuracy: 0.9843, Validation Accuracy: 0.9569, Loss: 0.0157\n",
      "Epoch   7 Batch  400/641 - Train Accuracy: 0.9705, Validation Accuracy: 0.9615, Loss: 0.0196\n",
      "Epoch   7 Batch  500/641 - Train Accuracy: 0.9542, Validation Accuracy: 0.9448, Loss: 0.0277\n",
      "Epoch   7 Batch  600/641 - Train Accuracy: 0.9742, Validation Accuracy: 0.9649, Loss: 0.0191\n",
      "Epoch   8 Batch  100/641 - Train Accuracy: 0.9654, Validation Accuracy: 0.9482, Loss: 0.0244\n",
      "Epoch   8 Batch  200/641 - Train Accuracy: 0.9586, Validation Accuracy: 0.9507, Loss: 0.0245\n",
      "Epoch   8 Batch  300/641 - Train Accuracy: 0.9896, Validation Accuracy: 0.9562, Loss: 0.0110\n",
      "Epoch   8 Batch  400/641 - Train Accuracy: 0.9818, Validation Accuracy: 0.9679, Loss: 0.0172\n",
      "Epoch   8 Batch  500/641 - Train Accuracy: 0.9591, Validation Accuracy: 0.9531, Loss: 0.0244\n",
      "Epoch   8 Batch  600/641 - Train Accuracy: 0.9758, Validation Accuracy: 0.9562, Loss: 0.0193\n",
      "Epoch   9 Batch  100/641 - Train Accuracy: 0.9743, Validation Accuracy: 0.9683, Loss: 0.0206\n",
      "Epoch   9 Batch  200/641 - Train Accuracy: 0.9763, Validation Accuracy: 0.9590, Loss: 0.0198\n",
      "Epoch   9 Batch  300/641 - Train Accuracy: 0.9767, Validation Accuracy: 0.9533, Loss: 0.0108\n",
      "Epoch   9 Batch  400/641 - Train Accuracy: 0.9561, Validation Accuracy: 0.9533, Loss: 0.0159\n",
      "Epoch   9 Batch  500/641 - Train Accuracy: 0.9600, Validation Accuracy: 0.9641, Loss: 0.0205\n",
      "Epoch   9 Batch  600/641 - Train Accuracy: 0.9760, Validation Accuracy: 0.9603, Loss: 0.0204\n",
      "Epoch  10 Batch  100/641 - Train Accuracy: 0.9539, Validation Accuracy: 0.9605, Loss: 0.0246\n",
      "Epoch  10 Batch  200/641 - Train Accuracy: 0.9709, Validation Accuracy: 0.9687, Loss: 0.0202\n",
      "Epoch  10 Batch  300/641 - Train Accuracy: 0.9911, Validation Accuracy: 0.9512, Loss: 0.0164\n",
      "Epoch  10 Batch  400/641 - Train Accuracy: 0.9723, Validation Accuracy: 0.9700, Loss: 0.0133\n",
      "Epoch  10 Batch  500/641 - Train Accuracy: 0.9530, Validation Accuracy: 0.9490, Loss: 0.0277\n",
      "Epoch  10 Batch  600/641 - Train Accuracy: 0.9784, Validation Accuracy: 0.9619, Loss: 0.0211\n",
      "Epoch  11 Batch  100/641 - Train Accuracy: 0.9690, Validation Accuracy: 0.9541, Loss: 0.0171\n",
      "Epoch  11 Batch  200/641 - Train Accuracy: 0.9665, Validation Accuracy: 0.9600, Loss: 0.0211\n",
      "Epoch  11 Batch  300/641 - Train Accuracy: 0.9858, Validation Accuracy: 0.9564, Loss: 0.0122\n",
      "Epoch  11 Batch  400/641 - Train Accuracy: 0.9712, Validation Accuracy: 0.9626, Loss: 0.0171\n",
      "Epoch  11 Batch  500/641 - Train Accuracy: 0.9698, Validation Accuracy: 0.9679, Loss: 0.0265\n",
      "Epoch  11 Batch  600/641 - Train Accuracy: 0.9779, Validation Accuracy: 0.9592, Loss: 0.0218\n",
      "Epoch  12 Batch  100/641 - Train Accuracy: 0.9681, Validation Accuracy: 0.9668, Loss: 0.0219\n",
      "Epoch  12 Batch  200/641 - Train Accuracy: 0.9735, Validation Accuracy: 0.9605, Loss: 0.0241\n",
      "Epoch  12 Batch  300/641 - Train Accuracy: 0.9765, Validation Accuracy: 0.9448, Loss: 0.0133\n",
      "Epoch  12 Batch  400/641 - Train Accuracy: 0.9730, Validation Accuracy: 0.9634, Loss: 0.0138\n",
      "Epoch  12 Batch  500/641 - Train Accuracy: 0.9633, Validation Accuracy: 0.9658, Loss: 0.0261\n",
      "Epoch  12 Batch  600/641 - Train Accuracy: 0.9756, Validation Accuracy: 0.9617, Loss: 0.0199\n",
      "Epoch  13 Batch  100/641 - Train Accuracy: 0.9635, Validation Accuracy: 0.9710, Loss: 0.0175\n",
      "Epoch  13 Batch  200/641 - Train Accuracy: 0.9751, Validation Accuracy: 0.9645, Loss: 0.0198\n",
      "Epoch  13 Batch  300/641 - Train Accuracy: 0.9854, Validation Accuracy: 0.9564, Loss: 0.0150\n",
      "Epoch  13 Batch  400/641 - Train Accuracy: 0.9646, Validation Accuracy: 0.9693, Loss: 0.0137\n",
      "Epoch  13 Batch  500/641 - Train Accuracy: 0.9649, Validation Accuracy: 0.9592, Loss: 0.0227\n",
      "Epoch  13 Batch  600/641 - Train Accuracy: 0.9700, Validation Accuracy: 0.9554, Loss: 0.0197\n",
      "Epoch  14 Batch  100/641 - Train Accuracy: 0.9592, Validation Accuracy: 0.9526, Loss: 0.0226\n",
      "Epoch  14 Batch  200/641 - Train Accuracy: 0.9760, Validation Accuracy: 0.9467, Loss: 0.0187\n",
      "Epoch  14 Batch  300/641 - Train Accuracy: 0.9832, Validation Accuracy: 0.9552, Loss: 0.0103\n",
      "Epoch  14 Batch  400/641 - Train Accuracy: 0.9787, Validation Accuracy: 0.9630, Loss: 0.0124\n",
      "Epoch  14 Batch  500/641 - Train Accuracy: 0.9614, Validation Accuracy: 0.9548, Loss: 0.0239\n"
     ]
    },
    {
     "name": "stdout",
     "output_type": "stream",
     "text": [
      "Epoch  14 Batch  600/641 - Train Accuracy: 0.9779, Validation Accuracy: 0.9535, Loss: 0.0213\n",
      "Epoch  15 Batch  100/641 - Train Accuracy: 0.9763, Validation Accuracy: 0.9641, Loss: 0.0156\n",
      "Epoch  15 Batch  200/641 - Train Accuracy: 0.9612, Validation Accuracy: 0.9674, Loss: 0.0212\n",
      "Epoch  15 Batch  300/641 - Train Accuracy: 0.9783, Validation Accuracy: 0.9641, Loss: 0.0180\n",
      "Epoch  15 Batch  400/641 - Train Accuracy: 0.9690, Validation Accuracy: 0.9507, Loss: 0.0134\n",
      "Epoch  15 Batch  500/641 - Train Accuracy: 0.9726, Validation Accuracy: 0.9687, Loss: 0.0218\n",
      "Epoch  15 Batch  600/641 - Train Accuracy: 0.9740, Validation Accuracy: 0.9634, Loss: 0.0206\n",
      "Epoch  16 Batch  100/641 - Train Accuracy: 0.9719, Validation Accuracy: 0.9759, Loss: 0.0175\n",
      "Epoch  16 Batch  200/641 - Train Accuracy: 0.9619, Validation Accuracy: 0.9653, Loss: 0.0245\n",
      "Epoch  16 Batch  300/641 - Train Accuracy: 0.9891, Validation Accuracy: 0.9440, Loss: 0.0130\n",
      "Epoch  16 Batch  400/641 - Train Accuracy: 0.9699, Validation Accuracy: 0.9592, Loss: 0.0175\n",
      "Epoch  16 Batch  500/641 - Train Accuracy: 0.9570, Validation Accuracy: 0.9693, Loss: 0.0296\n",
      "Epoch  16 Batch  600/641 - Train Accuracy: 0.9772, Validation Accuracy: 0.9696, Loss: 0.0181\n",
      "Epoch  17 Batch  100/641 - Train Accuracy: 0.9637, Validation Accuracy: 0.9668, Loss: 0.0265\n",
      "Epoch  17 Batch  200/641 - Train Accuracy: 0.9770, Validation Accuracy: 0.9617, Loss: 0.0220\n",
      "Epoch  17 Batch  300/641 - Train Accuracy: 0.9648, Validation Accuracy: 0.9556, Loss: 0.0133\n",
      "Epoch  17 Batch  400/641 - Train Accuracy: 0.9721, Validation Accuracy: 0.9603, Loss: 0.0181\n",
      "Epoch  17 Batch  500/641 - Train Accuracy: 0.9628, Validation Accuracy: 0.9662, Loss: 0.0224\n",
      "Epoch  17 Batch  600/641 - Train Accuracy: 0.9835, Validation Accuracy: 0.9535, Loss: 0.0168\n",
      "Epoch  18 Batch  100/641 - Train Accuracy: 0.9725, Validation Accuracy: 0.9685, Loss: 0.0183\n",
      "Epoch  18 Batch  200/641 - Train Accuracy: 0.9737, Validation Accuracy: 0.9594, Loss: 0.0222\n",
      "Epoch  18 Batch  300/641 - Train Accuracy: 0.9748, Validation Accuracy: 0.9543, Loss: 0.0113\n",
      "Epoch  18 Batch  400/641 - Train Accuracy: 0.9721, Validation Accuracy: 0.9571, Loss: 0.0138\n",
      "Epoch  18 Batch  500/641 - Train Accuracy: 0.9593, Validation Accuracy: 0.9598, Loss: 0.0265\n",
      "Epoch  18 Batch  600/641 - Train Accuracy: 0.9814, Validation Accuracy: 0.9501, Loss: 0.0163\n",
      "Epoch  19 Batch  100/641 - Train Accuracy: 0.9650, Validation Accuracy: 0.9645, Loss: 0.0214\n",
      "Epoch  19 Batch  200/641 - Train Accuracy: 0.9721, Validation Accuracy: 0.9586, Loss: 0.0195\n",
      "Epoch  19 Batch  300/641 - Train Accuracy: 0.9790, Validation Accuracy: 0.9486, Loss: 0.0107\n",
      "Epoch  19 Batch  400/641 - Train Accuracy: 0.9652, Validation Accuracy: 0.9619, Loss: 0.0197\n",
      "Epoch  19 Batch  500/641 - Train Accuracy: 0.9570, Validation Accuracy: 0.9624, Loss: 0.0249\n",
      "Epoch  19 Batch  600/641 - Train Accuracy: 0.9744, Validation Accuracy: 0.9615, Loss: 0.0199\n",
      "Model Trained and Saved\n"
     ]
    }
   ],
   "source": [
    "\"\"\"\n",
    "DON'T MODIFY ANYTHING IN THIS CELL\n",
    "\"\"\"\n",
    "def get_accuracy(target, logits):\n",
    "    \"\"\"\n",
    "    Calculate accuracy\n",
    "    \"\"\"\n",
    "    max_seq = max(target.shape[1], logits.shape[1])\n",
    "    if max_seq - target.shape[1]:\n",
    "        target = np.pad(\n",
    "            target,\n",
    "            [(0,0),(0,max_seq - target.shape[1])],\n",
    "            'constant')\n",
    "    if max_seq - logits.shape[1]:\n",
    "        logits = np.pad(\n",
    "            logits,\n",
    "            [(0,0),(0,max_seq - logits.shape[1])],\n",
    "            'constant')\n",
    "\n",
    "    return np.mean(np.equal(target, logits))\n",
    "\n",
    "# Split data to training and validation sets\n",
    "train_source = source_int_text[batch_size:]\n",
    "train_target = target_int_text[batch_size:]\n",
    "valid_source = source_int_text[:batch_size]\n",
    "valid_target = target_int_text[:batch_size]\n",
    "(valid_sources_batch, valid_targets_batch, valid_sources_lengths, valid_targets_lengths ) = next(get_batches(valid_source,\n",
    "                                                                                                             valid_target,\n",
    "                                                                                                             batch_size,\n",
    "                                                                                                             source_vocab_to_int['<PAD>'],\n",
    "                                                                                                             target_vocab_to_int['<PAD>']))                                                                                                  \n",
    "with tf.Session(graph=train_graph) as sess:\n",
    "    sess.run(tf.global_variables_initializer())\n",
    "\n",
    "    for epoch_i in range(epochs):\n",
    "        for batch_i, (source_batch, target_batch, sources_lengths, targets_lengths) in enumerate(\n",
    "                get_batches(train_source, train_target, batch_size,\n",
    "                            source_vocab_to_int['<PAD>'],\n",
    "                            target_vocab_to_int['<PAD>'])):\n",
    "\n",
    "            _, loss = sess.run(\n",
    "                [train_op, cost],\n",
    "                {input_data: source_batch,\n",
    "                 targets: target_batch,\n",
    "                 lr: learning_rate,\n",
    "                 target_sequence_length: targets_lengths,\n",
    "                 source_sequence_length: sources_lengths,\n",
    "                 keep_prob: keep_probability})\n",
    "\n",
    "\n",
    "            if batch_i % display_step == 0 and batch_i > 0:\n",
    "\n",
    "\n",
    "                batch_train_logits = sess.run(\n",
    "                    inference_logits,\n",
    "                    {input_data: source_batch,\n",
    "                     source_sequence_length: sources_lengths,\n",
    "                     target_sequence_length: targets_lengths,\n",
    "                     keep_prob: 1.0})\n",
    "\n",
    "\n",
    "                batch_valid_logits = sess.run(\n",
    "                    inference_logits,\n",
    "                    {input_data: valid_sources_batch,\n",
    "                     source_sequence_length: valid_sources_lengths,\n",
    "                     target_sequence_length: valid_targets_lengths,\n",
    "                     keep_prob: 1.0})\n",
    "\n",
    "                train_acc = get_accuracy(target_batch, batch_train_logits)\n",
    "\n",
    "                valid_acc = get_accuracy(valid_targets_batch, batch_valid_logits)\n",
    "\n",
    "                print('Epoch {:>3} Batch {:>4}/{} - Train Accuracy: {:>6.4f}, Validation Accuracy: {:>6.4f}, Loss: {:>6.4f}'\n",
    "                      .format(epoch_i, batch_i, len(source_int_text) // batch_size, train_acc, valid_acc, loss))\n",
    "\n",
    "    # Save Model\n",
    "    saver = tf.train.Saver()\n",
    "    saver.save(sess, save_path)\n",
    "    print('Model Trained and Saved')"
   ]
  },
  {
   "cell_type": "code",
   "execution_count": 18,
   "metadata": {
    "collapsed": true
   },
   "outputs": [],
   "source": [
    "\"\"\"\n",
    "DON'T MODIFY ANYTHING IN THIS CELL\n",
    "\"\"\"\n",
    "# Save parameters for checkpoint\n",
    "helper.save_params(save_path)"
   ]
  },
  {
   "cell_type": "code",
   "execution_count": 19,
   "metadata": {
    "collapsed": true
   },
   "outputs": [],
   "source": [
    "\"\"\"\n",
    "DON'T MODIFY ANYTHING IN THIS CELL\n",
    "\"\"\"\n",
    "import tensorflow as tf\n",
    "import numpy as np\n",
    "import helper\n",
    "import problem_unittests as tests\n",
    "\n",
    "_, (source_vocab_to_int, target_vocab_to_int), (source_int_to_vocab, target_int_to_vocab) = helper.load_preprocess()\n",
    "load_path = helper.load_params()"
   ]
  },
  {
   "cell_type": "code",
   "execution_count": 22,
   "metadata": {},
   "outputs": [
    {
     "name": "stdout",
     "output_type": "stream",
     "text": [
      "Tests Passed\n"
     ]
    }
   ],
   "source": [
    "def sentence_to_seq(sentence, vocab_to_int):\n",
    "    \"\"\"\n",
    "    Convert a sentence to a sequence of ids\n",
    "    :param sentence: String\n",
    "    :param vocab_to_int: Dictionary to go from the words to an id\n",
    "    :return: List of word ids\n",
    "    \"\"\"\n",
    "    seq = [vocab_to_int.get(word, vocab_to_int['<UNK>']) for word in sentence.lower().split()]\n",
    "    return seq\n",
    "\n",
    "\n",
    "\"\"\"\n",
    "DON'T MODIFY ANYTHING IN THIS CELL THAT IS BELOW THIS LINE\n",
    "\"\"\"\n",
    "tests.test_sentence_to_seq(sentence_to_seq)"
   ]
  },
  {
   "cell_type": "code",
   "execution_count": 23,
   "metadata": {},
   "outputs": [
    {
     "name": "stdout",
     "output_type": "stream",
     "text": [
      "INFO:tensorflow:Restoring parameters from checkpoints/dev\n",
      "Input\n",
      "  Word Ids:      [4, 186, 178, 47, 76, 56, 137]\n",
      "  English Words: ['he', 'saw', 'a', 'old', 'yellow', 'truck', '.']\n",
      "\n",
      "Prediction\n",
      "  Word Ids:      [117, 151, 59, 37, 268, 284, 93, 137, 1]\n",
      "  French Words: il a vu un vieux camion jaune . <EOS>\n"
     ]
    }
   ],
   "source": [
    "translate_sentence = 'he saw a old yellow truck .'\n",
    "\n",
    "\n",
    "\"\"\"\n",
    "DON'T MODIFY ANYTHING IN THIS CELL\n",
    "\"\"\"\n",
    "translate_sentence = sentence_to_seq(translate_sentence, source_vocab_to_int)\n",
    "\n",
    "loaded_graph = tf.Graph()\n",
    "with tf.Session(graph=loaded_graph) as sess:\n",
    "    # Load saved model\n",
    "    loader = tf.train.import_meta_graph(load_path + '.meta')\n",
    "    loader.restore(sess, load_path)\n",
    "\n",
    "    input_data = loaded_graph.get_tensor_by_name('input:0')\n",
    "    logits = loaded_graph.get_tensor_by_name('predictions:0')\n",
    "    target_sequence_length = loaded_graph.get_tensor_by_name('target_sequence_length:0')\n",
    "    source_sequence_length = loaded_graph.get_tensor_by_name('source_sequence_length:0')\n",
    "    keep_prob = loaded_graph.get_tensor_by_name('keep_prob:0')\n",
    "\n",
    "    translate_logits = sess.run(logits, {input_data: [translate_sentence]*batch_size,\n",
    "                                         target_sequence_length: [len(translate_sentence)*2]*batch_size,\n",
    "                                         source_sequence_length: [len(translate_sentence)]*batch_size,\n",
    "                                         keep_prob: 1.0})[0]\n",
    "\n",
    "print('Input')\n",
    "print('  Word Ids:      {}'.format([i for i in translate_sentence]))\n",
    "print('  English Words: {}'.format([source_int_to_vocab[i] for i in translate_sentence]))\n",
    "\n",
    "print('\\nPrediction')\n",
    "print('  Word Ids:      {}'.format([i for i in translate_logits]))\n",
    "print('  French Words: {}'.format(\" \".join([target_int_to_vocab[i] for i in translate_logits])))\n"
   ]
  }
 ],
 "metadata": {
  "anaconda-cloud": {},
  "kernelspec": {
   "display_name": "Python 3",
   "language": "python",
   "name": "python3"
  },
  "language_info": {
   "codemirror_mode": {
    "name": "ipython",
    "version": 3
   },
   "file_extension": ".py",
   "mimetype": "text/x-python",
   "name": "python",
   "nbconvert_exporter": "python",
   "pygments_lexer": "ipython3",
   "version": "3.6.1"
  }
 },
 "nbformat": 4,
 "nbformat_minor": 1
}
